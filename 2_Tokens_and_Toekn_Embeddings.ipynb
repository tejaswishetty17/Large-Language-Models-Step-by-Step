{
  "nbformat": 4,
  "nbformat_minor": 0,
  "metadata": {
    "colab": {
      "provenance": [],
      "gpuType": "T4",
      "authorship_tag": "ABX9TyMpMZfKt4jxxYtGJ07i6I2m",
      "include_colab_link": true
    },
    "kernelspec": {
      "name": "python3",
      "display_name": "Python 3"
    },
    "language_info": {
      "name": "python"
    },
    "accelerator": "GPU"
  },
  "cells": [
    {
      "cell_type": "markdown",
      "metadata": {
        "id": "view-in-github",
        "colab_type": "text"
      },
      "source": [
        "<a href=\"https://colab.research.google.com/github/tejaswishetty17/Large-Language-Models-Step-by-Step/blob/main/2_Tokens_and_Toekn_Embeddings.ipynb\" target=\"_parent\"><img src=\"https://colab.research.google.com/assets/colab-badge.svg\" alt=\"Open In Colab\"/></a>"
      ]
    },
    {
      "cell_type": "code",
      "execution_count": 1,
      "metadata": {
        "id": "1eiOjPqZ8uXD"
      },
      "outputs": [],
      "source": [
        "!pip install -q transformers sentence-transformers gensim scikit-learn>=1.5.0 accelerator>0.31.0"
      ]
    },
    {
      "cell_type": "markdown",
      "source": [
        "Load our model onto the GPU for faster inference. We will be using small model - microsoft/Phi-3-mini-4k-instruct.\n",
        "\n",
        "Lets see how we load the model and tokenizer separately. So we can explore them separately."
      ],
      "metadata": {
        "id": "jDZpV5s5FXc5"
      }
    },
    {
      "cell_type": "code",
      "source": [
        "from transformers import AutoTokenizer, AutoModelForCausalLM\n",
        "\n",
        "#Load model and tokenizer\n",
        "\n",
        "model = AutoModelForCausalLM.from_pretrained(\n",
        "    \"microsoft/Phi-3-mini-4k-instruct\",\n",
        "    device_map = \"cuda\",\n",
        "    torch_dtype = \"auto\",\n",
        "    trust_remote_code = False,\n",
        ")\n",
        "\n",
        "tokenizer = AutoTokenizer.from_pretrained(\"microsoft/Phi-3-mini-4k-instruct\")"
      ],
      "metadata": {
        "id": "utfUMSL--Nt9"
      },
      "execution_count": null,
      "outputs": []
    },
    {
      "cell_type": "code",
      "source": [
        "prompt = \"What is LLM? also, explain what is the use of Langchain?\"\n",
        "\n",
        "#tokenize the input prompt\n",
        "\n",
        "input_ids = tokenizer(prompt, return_tensors=\"pt\").input_ids.to(\"cuda\")\n",
        "\n",
        "#Generate the text\n",
        "output_generated = model.generate(\n",
        "    input_ids = input_ids,\n",
        "    max_new_tokens = 20\n",
        ")\n",
        "\n",
        "#print the generated output\n",
        "print(tokenizer.decode(output_generated[0]), \"\\n\\nThe input ids are:\\n\", input_ids)"
      ],
      "metadata": {
        "colab": {
          "base_uri": "https://localhost:8080/"
        },
        "id": "FlDYh-QjHSo0",
        "outputId": "2b2988de-6551-46fb-9c48-61bf3e227011"
      },
      "execution_count": 10,
      "outputs": [
        {
          "output_type": "stream",
          "name": "stdout",
          "text": [
            "What is LLM? also, explain what is the use of Langchain?\n",
            "\n",
            "LLM stands for Large Language Model. It is a type of artificial intelligence model that \n",
            "\n",
            "The input ids are:\n",
            " tensor([[ 1724,   338,   365, 26369, 29973,   884, 29892,  5649,   825,   338,\n",
            "           278,   671,   310, 10476, 14153, 29973]], device='cuda:0')\n"
          ]
        }
      ]
    },
    {
      "cell_type": "code",
      "source": [
        "for id in input_ids[0]:\n",
        "  print(tokenizer.decode(id))"
      ],
      "metadata": {
        "colab": {
          "base_uri": "https://localhost:8080/"
        },
        "id": "2UrPfh1kJS3X",
        "outputId": "87f2d888-4be6-4610-c22f-e4fe5bd05133"
      },
      "execution_count": 12,
      "outputs": [
        {
          "output_type": "stream",
          "name": "stdout",
          "text": [
            "What\n",
            "is\n",
            "L\n",
            "LM\n",
            "?\n",
            "also\n",
            ",\n",
            "explain\n",
            "what\n",
            "is\n",
            "the\n",
            "use\n",
            "of\n",
            "Lang\n",
            "chain\n",
            "?\n"
          ]
        }
      ]
    },
    {
      "cell_type": "code",
      "source": [
        "output_generated[0]"
      ],
      "metadata": {
        "colab": {
          "base_uri": "https://localhost:8080/"
        },
        "id": "gwLCF8ELJz_R",
        "outputId": "8397653d-40d4-4479-cf7f-b02ad5f3ff8c"
      },
      "execution_count": 17,
      "outputs": [
        {
          "output_type": "execute_result",
          "data": {
            "text/plain": [
              "tensor([[ 1724,   338,   365, 26369, 29973,   884, 29892,  5649,   825,   338,\n",
              "           278,   671,   310, 10476, 14153, 29973,    13,    13,  2208, 29924,\n",
              "         15028,   363,  8218,   479, 17088,  8125, 29889,   739,   338,   263,\n",
              "          1134,   310, 23116, 21082,  1904,   393]], device='cuda:0')"
            ]
          },
          "metadata": {},
          "execution_count": 17
        }
      ]
    },
    {
      "cell_type": "code",
      "source": [
        "for id in output_generated[0]:\n",
        "  print(\"generated_id: \",id, \"Genearted item:\" ,tokenizer.decode(id))"
      ],
      "metadata": {
        "colab": {
          "base_uri": "https://localhost:8080/"
        },
        "id": "vgwkNFo1J-ZV",
        "outputId": "868b7bfe-2598-462a-c281-5937cc8126d2"
      },
      "execution_count": 22,
      "outputs": [
        {
          "output_type": "stream",
          "name": "stdout",
          "text": [
            "generated_id:  tensor(1724, device='cuda:0') Genearted item: What\n",
            "generated_id:  tensor(338, device='cuda:0') Genearted item: is\n",
            "generated_id:  tensor(365, device='cuda:0') Genearted item: L\n",
            "generated_id:  tensor(26369, device='cuda:0') Genearted item: LM\n",
            "generated_id:  tensor(29973, device='cuda:0') Genearted item: ?\n",
            "generated_id:  tensor(884, device='cuda:0') Genearted item: also\n",
            "generated_id:  tensor(29892, device='cuda:0') Genearted item: ,\n",
            "generated_id:  tensor(5649, device='cuda:0') Genearted item: explain\n",
            "generated_id:  tensor(825, device='cuda:0') Genearted item: what\n",
            "generated_id:  tensor(338, device='cuda:0') Genearted item: is\n",
            "generated_id:  tensor(278, device='cuda:0') Genearted item: the\n",
            "generated_id:  tensor(671, device='cuda:0') Genearted item: use\n",
            "generated_id:  tensor(310, device='cuda:0') Genearted item: of\n",
            "generated_id:  tensor(10476, device='cuda:0') Genearted item: Lang\n",
            "generated_id:  tensor(14153, device='cuda:0') Genearted item: chain\n",
            "generated_id:  tensor(29973, device='cuda:0') Genearted item: ?\n",
            "generated_id:  tensor(13, device='cuda:0') Genearted item: \n",
            "\n",
            "generated_id:  tensor(13, device='cuda:0') Genearted item: \n",
            "\n",
            "generated_id:  tensor(2208, device='cuda:0') Genearted item: LL\n",
            "generated_id:  tensor(29924, device='cuda:0') Genearted item: M\n",
            "generated_id:  tensor(15028, device='cuda:0') Genearted item: stands\n",
            "generated_id:  tensor(363, device='cuda:0') Genearted item: for\n",
            "generated_id:  tensor(8218, device='cuda:0') Genearted item: Lar\n",
            "generated_id:  tensor(479, device='cuda:0') Genearted item: ge\n",
            "generated_id:  tensor(17088, device='cuda:0') Genearted item: Language\n",
            "generated_id:  tensor(8125, device='cuda:0') Genearted item: Model\n",
            "generated_id:  tensor(29889, device='cuda:0') Genearted item: .\n",
            "generated_id:  tensor(739, device='cuda:0') Genearted item: It\n",
            "generated_id:  tensor(338, device='cuda:0') Genearted item: is\n",
            "generated_id:  tensor(263, device='cuda:0') Genearted item: a\n",
            "generated_id:  tensor(1134, device='cuda:0') Genearted item: type\n",
            "generated_id:  tensor(310, device='cuda:0') Genearted item: of\n",
            "generated_id:  tensor(23116, device='cuda:0') Genearted item: artificial\n",
            "generated_id:  tensor(21082, device='cuda:0') Genearted item: intelligence\n",
            "generated_id:  tensor(1904, device='cuda:0') Genearted item: model\n",
            "generated_id:  tensor(393, device='cuda:0') Genearted item: that\n"
          ]
        }
      ]
    },
    {
      "cell_type": "markdown",
      "source": [
        "#Comparing the LLM Tokenizers"
      ],
      "metadata": {
        "id": "grP_L5nfKxPi"
      }
    },
    {
      "cell_type": "code",
      "source": [
        "from transformers import AutoModelForCausalLM, AutoTokenizer\n",
        "\n",
        "colors_list = [\n",
        "    '44;127;117',  # Dark Teal\n",
        "    '215;48;39',   # Brick Red\n",
        "    '117;107;177', # Muted Purple\n",
        "    '175;141;195', # Lavender Gray\n",
        "    '102;194;165', # Soft Teal\n",
        "    '128;128;0'    # Olive\n",
        "]\n",
        "\n",
        "def show_tokens(sentence, tokenizer_name):\n",
        "  try:\n",
        "    tokenizer = AutoTokenizer.from_pretrained(tokenizer_name)\n",
        "  except Exception as e:\n",
        "    print(f\"Error loading tokenizer:{e}\")\n",
        "    return\n",
        "\n",
        "  encoded = tokenizer(sentence, return_tensors=\"pt\")\n",
        "  token_ids = encoded.input_ids[0].tolist()\n",
        "  tokens = tokenizer.convert_ids_to_tokens(token_ids)\n",
        "\n",
        "  for idx, t in enumerate(tokens):\n",
        "    color = colors_list[idx % len(colors_list)]\n",
        "    print(\n",
        "        f'\\x1b[0;30;48;2;{color}m{t}\\x1b[0m',\n",
        "        end=' '\n",
        "    )"
      ],
      "metadata": {
        "id": "1dYJIUOZKpCd"
      },
      "execution_count": 66,
      "outputs": []
    },
    {
      "cell_type": "code",
      "source": [
        "text = \"\"\"\n",
        "What is the LLM? What is the use of Langchain? What are the models available in LLM?\n",
        "\n",
        "show_output False if n >= 700 else: use the input from user: \" \"\n",
        "\n",
        "15*855+3\n",
        "\"\"\""
      ],
      "metadata": {
        "id": "pgt2quXlMICZ"
      },
      "execution_count": 64,
      "outputs": []
    },
    {
      "cell_type": "code",
      "source": [
        "show_tokens(text, \"bert-base-uncased\")"
      ],
      "metadata": {
        "colab": {
          "base_uri": "https://localhost:8080/"
        },
        "id": "dN__dQupNJEj",
        "outputId": "47597a7f-8fdb-4e3c-d7e2-0fdbd300b488"
      },
      "execution_count": 50,
      "outputs": [
        {
          "output_type": "stream",
          "name": "stdout",
          "text": [
            "\u001b[0;30;48;2;44;127;117m[CLS]\u001b[0m \u001b[0;30;48;2;215;48;39mwhat\u001b[0m \u001b[0;30;48;2;117;107;177mis\u001b[0m \u001b[0;30;48;2;175;141;195mthe\u001b[0m \u001b[0;30;48;2;102;194;165mll\u001b[0m \u001b[0;30;48;2;128;128;0m##m\u001b[0m \u001b[0;30;48;2;44;127;117m?\u001b[0m \u001b[0;30;48;2;215;48;39mwhat\u001b[0m \u001b[0;30;48;2;117;107;177mis\u001b[0m \u001b[0;30;48;2;175;141;195mthe\u001b[0m \u001b[0;30;48;2;102;194;165muse\u001b[0m \u001b[0;30;48;2;128;128;0mof\u001b[0m \u001b[0;30;48;2;44;127;117mlang\u001b[0m \u001b[0;30;48;2;215;48;39m##chai\u001b[0m \u001b[0;30;48;2;117;107;177m##n\u001b[0m \u001b[0;30;48;2;175;141;195m?\u001b[0m \u001b[0;30;48;2;102;194;165mwhat\u001b[0m \u001b[0;30;48;2;128;128;0mare\u001b[0m \u001b[0;30;48;2;44;127;117mthe\u001b[0m \u001b[0;30;48;2;215;48;39mmodels\u001b[0m \u001b[0;30;48;2;117;107;177mavailable\u001b[0m \u001b[0;30;48;2;175;141;195min\u001b[0m \u001b[0;30;48;2;102;194;165mll\u001b[0m \u001b[0;30;48;2;128;128;0m##m\u001b[0m \u001b[0;30;48;2;44;127;117m?\u001b[0m \u001b[0;30;48;2;215;48;39mshow\u001b[0m \u001b[0;30;48;2;117;107;177m_\u001b[0m \u001b[0;30;48;2;175;141;195moutput\u001b[0m \u001b[0;30;48;2;102;194;165mfalse\u001b[0m \u001b[0;30;48;2;128;128;0mif\u001b[0m \u001b[0;30;48;2;44;127;117mn\u001b[0m \u001b[0;30;48;2;215;48;39m>\u001b[0m \u001b[0;30;48;2;117;107;177m=\u001b[0m \u001b[0;30;48;2;175;141;195m700\u001b[0m \u001b[0;30;48;2;102;194;165melse\u001b[0m \u001b[0;30;48;2;128;128;0m:\u001b[0m \u001b[0;30;48;2;44;127;117muse\u001b[0m \u001b[0;30;48;2;215;48;39mthe\u001b[0m \u001b[0;30;48;2;117;107;177minput\u001b[0m \u001b[0;30;48;2;175;141;195mfrom\u001b[0m \u001b[0;30;48;2;102;194;165muser\u001b[0m \u001b[0;30;48;2;128;128;0m:\u001b[0m \u001b[0;30;48;2;44;127;117m\"\u001b[0m \u001b[0;30;48;2;215;48;39m\"\u001b[0m \u001b[0;30;48;2;117;107;177m15\u001b[0m \u001b[0;30;48;2;175;141;195m*\u001b[0m \u001b[0;30;48;2;102;194;165m85\u001b[0m \u001b[0;30;48;2;128;128;0m##5\u001b[0m \u001b[0;30;48;2;44;127;117m+\u001b[0m \u001b[0;30;48;2;215;48;39m3\u001b[0m \u001b[0;30;48;2;117;107;177m[SEP]\u001b[0m "
          ]
        }
      ]
    },
    {
      "cell_type": "code",
      "source": [
        "show_tokens(text, \"bert-base-cased\")"
      ],
      "metadata": {
        "colab": {
          "base_uri": "https://localhost:8080/"
        },
        "id": "LEWsEJ9bOAOA",
        "outputId": "abba70c8-6ae1-4d69-e12d-5a40e3677058"
      },
      "execution_count": 51,
      "outputs": [
        {
          "output_type": "stream",
          "name": "stdout",
          "text": [
            "\u001b[0;30;48;2;44;127;117m[CLS]\u001b[0m \u001b[0;30;48;2;215;48;39mWhat\u001b[0m \u001b[0;30;48;2;117;107;177mis\u001b[0m \u001b[0;30;48;2;175;141;195mthe\u001b[0m \u001b[0;30;48;2;102;194;165mLL\u001b[0m \u001b[0;30;48;2;128;128;0m##M\u001b[0m \u001b[0;30;48;2;44;127;117m?\u001b[0m \u001b[0;30;48;2;215;48;39mWhat\u001b[0m \u001b[0;30;48;2;117;107;177mis\u001b[0m \u001b[0;30;48;2;175;141;195mthe\u001b[0m \u001b[0;30;48;2;102;194;165muse\u001b[0m \u001b[0;30;48;2;128;128;0mof\u001b[0m \u001b[0;30;48;2;44;127;117mLang\u001b[0m \u001b[0;30;48;2;215;48;39m##cha\u001b[0m \u001b[0;30;48;2;117;107;177m##in\u001b[0m \u001b[0;30;48;2;175;141;195m?\u001b[0m \u001b[0;30;48;2;102;194;165mWhat\u001b[0m \u001b[0;30;48;2;128;128;0mare\u001b[0m \u001b[0;30;48;2;44;127;117mthe\u001b[0m \u001b[0;30;48;2;215;48;39mmodels\u001b[0m \u001b[0;30;48;2;117;107;177mavailable\u001b[0m \u001b[0;30;48;2;175;141;195min\u001b[0m \u001b[0;30;48;2;102;194;165mLL\u001b[0m \u001b[0;30;48;2;128;128;0m##M\u001b[0m \u001b[0;30;48;2;44;127;117m?\u001b[0m \u001b[0;30;48;2;215;48;39mshow\u001b[0m \u001b[0;30;48;2;117;107;177m_\u001b[0m \u001b[0;30;48;2;175;141;195moutput\u001b[0m \u001b[0;30;48;2;102;194;165mF\u001b[0m \u001b[0;30;48;2;128;128;0m##als\u001b[0m \u001b[0;30;48;2;44;127;117m##e\u001b[0m \u001b[0;30;48;2;215;48;39mif\u001b[0m \u001b[0;30;48;2;117;107;177mn\u001b[0m \u001b[0;30;48;2;175;141;195m>\u001b[0m \u001b[0;30;48;2;102;194;165m=\u001b[0m \u001b[0;30;48;2;128;128;0m700\u001b[0m \u001b[0;30;48;2;44;127;117melse\u001b[0m \u001b[0;30;48;2;215;48;39m:\u001b[0m \u001b[0;30;48;2;117;107;177muse\u001b[0m \u001b[0;30;48;2;175;141;195mthe\u001b[0m \u001b[0;30;48;2;102;194;165minput\u001b[0m \u001b[0;30;48;2;128;128;0mfrom\u001b[0m \u001b[0;30;48;2;44;127;117muser\u001b[0m \u001b[0;30;48;2;215;48;39m:\u001b[0m \u001b[0;30;48;2;117;107;177m\"\u001b[0m \u001b[0;30;48;2;175;141;195m\"\u001b[0m \u001b[0;30;48;2;102;194;165m15\u001b[0m \u001b[0;30;48;2;128;128;0m*\u001b[0m \u001b[0;30;48;2;44;127;117m85\u001b[0m \u001b[0;30;48;2;215;48;39m##5\u001b[0m \u001b[0;30;48;2;117;107;177m+\u001b[0m \u001b[0;30;48;2;175;141;195m3\u001b[0m \u001b[0;30;48;2;102;194;165m[SEP]\u001b[0m "
          ]
        }
      ]
    },
    {
      "cell_type": "code",
      "source": [
        "show_tokens(text, \"gpt2\")"
      ],
      "metadata": {
        "colab": {
          "base_uri": "https://localhost:8080/"
        },
        "id": "2KZP2cRmOIyb",
        "outputId": "44c8fddc-e55c-4e3f-df7a-2b6c4c975496"
      },
      "execution_count": 55,
      "outputs": [
        {
          "output_type": "stream",
          "name": "stdout",
          "text": [
            "\u001b[0;30;48;2;44;127;117mĊ\u001b[0m \u001b[0;30;48;2;215;48;39mWhat\u001b[0m \u001b[0;30;48;2;117;107;177mĠis\u001b[0m \u001b[0;30;48;2;175;141;195mĠthe\u001b[0m \u001b[0;30;48;2;102;194;165mĠLL\u001b[0m \u001b[0;30;48;2;128;128;0mM\u001b[0m \u001b[0;30;48;2;44;127;117m?\u001b[0m \u001b[0;30;48;2;215;48;39mĠWhat\u001b[0m \u001b[0;30;48;2;117;107;177mĠis\u001b[0m \u001b[0;30;48;2;175;141;195mĠthe\u001b[0m \u001b[0;30;48;2;102;194;165mĠuse\u001b[0m \u001b[0;30;48;2;128;128;0mĠof\u001b[0m \u001b[0;30;48;2;44;127;117mĠLang\u001b[0m \u001b[0;30;48;2;215;48;39mchain\u001b[0m \u001b[0;30;48;2;117;107;177m?\u001b[0m \u001b[0;30;48;2;175;141;195mĠWhat\u001b[0m \u001b[0;30;48;2;102;194;165mĠare\u001b[0m \u001b[0;30;48;2;128;128;0mĠthe\u001b[0m \u001b[0;30;48;2;44;127;117mĠmodels\u001b[0m \u001b[0;30;48;2;215;48;39mĠavailable\u001b[0m \u001b[0;30;48;2;117;107;177mĠin\u001b[0m \u001b[0;30;48;2;175;141;195mĠLL\u001b[0m \u001b[0;30;48;2;102;194;165mM\u001b[0m \u001b[0;30;48;2;128;128;0m?\u001b[0m \u001b[0;30;48;2;44;127;117mĊ\u001b[0m \u001b[0;30;48;2;215;48;39mĊ\u001b[0m \u001b[0;30;48;2;117;107;177mshow\u001b[0m \u001b[0;30;48;2;175;141;195m_\u001b[0m \u001b[0;30;48;2;102;194;165moutput\u001b[0m \u001b[0;30;48;2;128;128;0mĠFalse\u001b[0m \u001b[0;30;48;2;44;127;117mĠif\u001b[0m \u001b[0;30;48;2;215;48;39mĠn\u001b[0m \u001b[0;30;48;2;117;107;177mĠ>=\u001b[0m \u001b[0;30;48;2;175;141;195mĠ700\u001b[0m \u001b[0;30;48;2;102;194;165mĠelse\u001b[0m \u001b[0;30;48;2;128;128;0m:\u001b[0m \u001b[0;30;48;2;44;127;117mĠuse\u001b[0m \u001b[0;30;48;2;215;48;39mĠthe\u001b[0m \u001b[0;30;48;2;117;107;177mĠinput\u001b[0m \u001b[0;30;48;2;175;141;195mĠfrom\u001b[0m \u001b[0;30;48;2;102;194;165mĠuser\u001b[0m \u001b[0;30;48;2;128;128;0m:\u001b[0m \u001b[0;30;48;2;44;127;117mĠ\"\u001b[0m \u001b[0;30;48;2;215;48;39mĠ\"\u001b[0m \u001b[0;30;48;2;117;107;177mĊ\u001b[0m \u001b[0;30;48;2;175;141;195mĊ\u001b[0m \u001b[0;30;48;2;102;194;165m15\u001b[0m \u001b[0;30;48;2;128;128;0m*\u001b[0m \u001b[0;30;48;2;44;127;117m855\u001b[0m \u001b[0;30;48;2;215;48;39m+\u001b[0m \u001b[0;30;48;2;117;107;177m3\u001b[0m \u001b[0;30;48;2;175;141;195mĊ\u001b[0m "
          ]
        }
      ]
    },
    {
      "cell_type": "code",
      "source": [
        "show_tokens(text, \"google/flan-t5-small\")"
      ],
      "metadata": {
        "colab": {
          "base_uri": "https://localhost:8080/"
        },
        "id": "SemE4D-BQaM8",
        "outputId": "2ff6b7c4-bd24-40a2-82f6-deee845ddd8e"
      },
      "execution_count": 57,
      "outputs": [
        {
          "output_type": "stream",
          "name": "stdout",
          "text": [
            "\u001b[0;30;48;2;44;127;117m▁What\u001b[0m \u001b[0;30;48;2;215;48;39m▁is\u001b[0m \u001b[0;30;48;2;117;107;177m▁the\u001b[0m \u001b[0;30;48;2;175;141;195m▁L\u001b[0m \u001b[0;30;48;2;102;194;165mLM\u001b[0m \u001b[0;30;48;2;128;128;0m?\u001b[0m \u001b[0;30;48;2;44;127;117m▁What\u001b[0m \u001b[0;30;48;2;215;48;39m▁is\u001b[0m \u001b[0;30;48;2;117;107;177m▁the\u001b[0m \u001b[0;30;48;2;175;141;195m▁use\u001b[0m \u001b[0;30;48;2;102;194;165m▁of\u001b[0m \u001b[0;30;48;2;128;128;0m▁Lang\u001b[0m \u001b[0;30;48;2;44;127;117mchain\u001b[0m \u001b[0;30;48;2;215;48;39m?\u001b[0m \u001b[0;30;48;2;117;107;177m▁What\u001b[0m \u001b[0;30;48;2;175;141;195m▁are\u001b[0m \u001b[0;30;48;2;102;194;165m▁the\u001b[0m \u001b[0;30;48;2;128;128;0m▁models\u001b[0m \u001b[0;30;48;2;44;127;117m▁available\u001b[0m \u001b[0;30;48;2;215;48;39m▁in\u001b[0m \u001b[0;30;48;2;117;107;177m▁L\u001b[0m \u001b[0;30;48;2;175;141;195mLM\u001b[0m \u001b[0;30;48;2;102;194;165m?\u001b[0m \u001b[0;30;48;2;128;128;0m▁show\u001b[0m \u001b[0;30;48;2;44;127;117m_\u001b[0m \u001b[0;30;48;2;215;48;39mout\u001b[0m \u001b[0;30;48;2;117;107;177mput\u001b[0m \u001b[0;30;48;2;175;141;195m▁Fal\u001b[0m \u001b[0;30;48;2;102;194;165ms\u001b[0m \u001b[0;30;48;2;128;128;0me\u001b[0m \u001b[0;30;48;2;44;127;117m▁\u001b[0m \u001b[0;30;48;2;215;48;39mif\u001b[0m \u001b[0;30;48;2;117;107;177m▁\u001b[0m \u001b[0;30;48;2;175;141;195mn\u001b[0m \u001b[0;30;48;2;102;194;165m▁>\u001b[0m \u001b[0;30;48;2;128;128;0m=\u001b[0m \u001b[0;30;48;2;44;127;117m▁700\u001b[0m \u001b[0;30;48;2;215;48;39m▁else\u001b[0m \u001b[0;30;48;2;117;107;177m:\u001b[0m \u001b[0;30;48;2;175;141;195m▁use\u001b[0m \u001b[0;30;48;2;102;194;165m▁the\u001b[0m \u001b[0;30;48;2;128;128;0m▁input\u001b[0m \u001b[0;30;48;2;44;127;117m▁from\u001b[0m \u001b[0;30;48;2;215;48;39m▁user\u001b[0m \u001b[0;30;48;2;117;107;177m:\u001b[0m \u001b[0;30;48;2;175;141;195m▁\"\u001b[0m \u001b[0;30;48;2;102;194;165m▁\"\u001b[0m \u001b[0;30;48;2;128;128;0m▁15\u001b[0m \u001b[0;30;48;2;44;127;117m*\u001b[0m \u001b[0;30;48;2;215;48;39m85\u001b[0m \u001b[0;30;48;2;117;107;177m5\u001b[0m \u001b[0;30;48;2;175;141;195m+\u001b[0m \u001b[0;30;48;2;102;194;165m3\u001b[0m \u001b[0;30;48;2;128;128;0m▁\u001b[0m \u001b[0;30;48;2;44;127;117m</s>\u001b[0m "
          ]
        }
      ]
    },
    {
      "cell_type": "code",
      "source": [
        "show_tokens(text, \"bigcode/starcoder2-15b\")"
      ],
      "metadata": {
        "colab": {
          "base_uri": "https://localhost:8080/"
        },
        "id": "OGC17D1nQkeM",
        "outputId": "2657549b-1f17-4ba5-fc58-109113bf5ca9"
      },
      "execution_count": 59,
      "outputs": [
        {
          "output_type": "stream",
          "name": "stdout",
          "text": [
            "\u001b[0;30;48;2;44;127;117mĊ\u001b[0m \u001b[0;30;48;2;215;48;39mWhat\u001b[0m \u001b[0;30;48;2;117;107;177mĠis\u001b[0m \u001b[0;30;48;2;175;141;195mĠthe\u001b[0m \u001b[0;30;48;2;102;194;165mĠLL\u001b[0m \u001b[0;30;48;2;128;128;0mM\u001b[0m \u001b[0;30;48;2;44;127;117m?\u001b[0m \u001b[0;30;48;2;215;48;39mĠWhat\u001b[0m \u001b[0;30;48;2;117;107;177mĠis\u001b[0m \u001b[0;30;48;2;175;141;195mĠthe\u001b[0m \u001b[0;30;48;2;102;194;165mĠuse\u001b[0m \u001b[0;30;48;2;128;128;0mĠof\u001b[0m \u001b[0;30;48;2;44;127;117mĠLang\u001b[0m \u001b[0;30;48;2;215;48;39mchain\u001b[0m \u001b[0;30;48;2;117;107;177m?\u001b[0m \u001b[0;30;48;2;175;141;195mĠWhat\u001b[0m \u001b[0;30;48;2;102;194;165mĠare\u001b[0m \u001b[0;30;48;2;128;128;0mĠthe\u001b[0m \u001b[0;30;48;2;44;127;117mĠmodels\u001b[0m \u001b[0;30;48;2;215;48;39mĠavailable\u001b[0m \u001b[0;30;48;2;117;107;177mĠin\u001b[0m \u001b[0;30;48;2;175;141;195mĠLL\u001b[0m \u001b[0;30;48;2;102;194;165mM\u001b[0m \u001b[0;30;48;2;128;128;0m?\u001b[0m \u001b[0;30;48;2;44;127;117mĊ\u001b[0m \u001b[0;30;48;2;215;48;39mĊ\u001b[0m \u001b[0;30;48;2;117;107;177mshow\u001b[0m \u001b[0;30;48;2;175;141;195m_\u001b[0m \u001b[0;30;48;2;102;194;165moutput\u001b[0m \u001b[0;30;48;2;128;128;0mĠFalse\u001b[0m \u001b[0;30;48;2;44;127;117mĠif\u001b[0m \u001b[0;30;48;2;215;48;39mĠn\u001b[0m \u001b[0;30;48;2;117;107;177mĠ>=\u001b[0m \u001b[0;30;48;2;175;141;195mĠ\u001b[0m \u001b[0;30;48;2;102;194;165m7\u001b[0m \u001b[0;30;48;2;128;128;0m0\u001b[0m \u001b[0;30;48;2;44;127;117m0\u001b[0m \u001b[0;30;48;2;215;48;39mĠelse\u001b[0m \u001b[0;30;48;2;117;107;177m:\u001b[0m \u001b[0;30;48;2;175;141;195mĠuse\u001b[0m \u001b[0;30;48;2;102;194;165mĠthe\u001b[0m \u001b[0;30;48;2;128;128;0mĠinput\u001b[0m \u001b[0;30;48;2;44;127;117mĠfrom\u001b[0m \u001b[0;30;48;2;215;48;39mĠuser\u001b[0m \u001b[0;30;48;2;117;107;177m:\u001b[0m \u001b[0;30;48;2;175;141;195mĠ\"\u001b[0m \u001b[0;30;48;2;102;194;165mĠ\"\u001b[0m \u001b[0;30;48;2;128;128;0mĊĊ\u001b[0m \u001b[0;30;48;2;44;127;117m1\u001b[0m \u001b[0;30;48;2;215;48;39m5\u001b[0m \u001b[0;30;48;2;117;107;177m*\u001b[0m \u001b[0;30;48;2;175;141;195m8\u001b[0m \u001b[0;30;48;2;102;194;165m5\u001b[0m \u001b[0;30;48;2;128;128;0m5\u001b[0m \u001b[0;30;48;2;44;127;117m+\u001b[0m \u001b[0;30;48;2;215;48;39m3\u001b[0m \u001b[0;30;48;2;117;107;177mĊ\u001b[0m "
          ]
        }
      ]
    },
    {
      "cell_type": "code",
      "source": [
        "show_tokens(text, \"xenova/gpt-4\")"
      ],
      "metadata": {
        "colab": {
          "base_uri": "https://localhost:8080/"
        },
        "id": "xY9XJMawQ57d",
        "outputId": "7172f83f-4e7e-45fe-9a70-83b87076dad5"
      },
      "execution_count": 68,
      "outputs": [
        {
          "output_type": "stream",
          "name": "stdout",
          "text": [
            "\u001b[0;30;48;2;44;127;117mĊ\u001b[0m \u001b[0;30;48;2;215;48;39mWhat\u001b[0m \u001b[0;30;48;2;117;107;177mĠis\u001b[0m \u001b[0;30;48;2;175;141;195mĠthe\u001b[0m \u001b[0;30;48;2;102;194;165mĠL\u001b[0m \u001b[0;30;48;2;128;128;0mLM\u001b[0m \u001b[0;30;48;2;44;127;117m?\u001b[0m \u001b[0;30;48;2;215;48;39mĠWhat\u001b[0m \u001b[0;30;48;2;117;107;177mĠis\u001b[0m \u001b[0;30;48;2;175;141;195mĠthe\u001b[0m \u001b[0;30;48;2;102;194;165mĠuse\u001b[0m \u001b[0;30;48;2;128;128;0mĠof\u001b[0m \u001b[0;30;48;2;44;127;117mĠLang\u001b[0m \u001b[0;30;48;2;215;48;39mchain\u001b[0m \u001b[0;30;48;2;117;107;177m?\u001b[0m \u001b[0;30;48;2;175;141;195mĠWhat\u001b[0m \u001b[0;30;48;2;102;194;165mĠare\u001b[0m \u001b[0;30;48;2;128;128;0mĠthe\u001b[0m \u001b[0;30;48;2;44;127;117mĠmodels\u001b[0m \u001b[0;30;48;2;215;48;39mĠavailable\u001b[0m \u001b[0;30;48;2;117;107;177mĠin\u001b[0m \u001b[0;30;48;2;175;141;195mĠL\u001b[0m \u001b[0;30;48;2;102;194;165mLM\u001b[0m \u001b[0;30;48;2;128;128;0m?ĊĊ\u001b[0m \u001b[0;30;48;2;44;127;117mshow\u001b[0m \u001b[0;30;48;2;215;48;39m_output\u001b[0m \u001b[0;30;48;2;117;107;177mĠFalse\u001b[0m \u001b[0;30;48;2;175;141;195mĠif\u001b[0m \u001b[0;30;48;2;102;194;165mĠn\u001b[0m \u001b[0;30;48;2;128;128;0mĠ>=\u001b[0m \u001b[0;30;48;2;44;127;117mĠ\u001b[0m \u001b[0;30;48;2;215;48;39m700\u001b[0m \u001b[0;30;48;2;117;107;177mĠelse\u001b[0m \u001b[0;30;48;2;175;141;195m:\u001b[0m \u001b[0;30;48;2;102;194;165mĠuse\u001b[0m \u001b[0;30;48;2;128;128;0mĠthe\u001b[0m \u001b[0;30;48;2;44;127;117mĠinput\u001b[0m \u001b[0;30;48;2;215;48;39mĠfrom\u001b[0m \u001b[0;30;48;2;117;107;177mĠuser\u001b[0m \u001b[0;30;48;2;175;141;195m:\u001b[0m \u001b[0;30;48;2;102;194;165mĠ\"\u001b[0m \u001b[0;30;48;2;128;128;0mĠ\"ĊĊ\u001b[0m \u001b[0;30;48;2;44;127;117m15\u001b[0m \u001b[0;30;48;2;215;48;39m*\u001b[0m \u001b[0;30;48;2;117;107;177m855\u001b[0m \u001b[0;30;48;2;175;141;195m+\u001b[0m \u001b[0;30;48;2;102;194;165m3\u001b[0m \u001b[0;30;48;2;128;128;0mĊ\u001b[0m "
          ]
        }
      ]
    },
    {
      "cell_type": "code",
      "source": [
        "show_tokens(text, \"microsoft/Phi-3-mini-4k-instruct\")"
      ],
      "metadata": {
        "colab": {
          "base_uri": "https://localhost:8080/"
        },
        "id": "I_2Zh0qdRuVN",
        "outputId": "dfd3dff9-cc2b-4c00-9348-c1de0eb6c700"
      },
      "execution_count": 69,
      "outputs": [
        {
          "output_type": "stream",
          "name": "stdout",
          "text": [
            "\u001b[0;30;48;2;44;127;117m▁\u001b[0m \u001b[0;30;48;2;215;48;39m<0x0A>\u001b[0m \u001b[0;30;48;2;117;107;177mWhat\u001b[0m \u001b[0;30;48;2;175;141;195m▁is\u001b[0m \u001b[0;30;48;2;102;194;165m▁the\u001b[0m \u001b[0;30;48;2;128;128;0m▁L\u001b[0m \u001b[0;30;48;2;44;127;117mLM\u001b[0m \u001b[0;30;48;2;215;48;39m?\u001b[0m \u001b[0;30;48;2;117;107;177m▁What\u001b[0m \u001b[0;30;48;2;175;141;195m▁is\u001b[0m \u001b[0;30;48;2;102;194;165m▁the\u001b[0m \u001b[0;30;48;2;128;128;0m▁use\u001b[0m \u001b[0;30;48;2;44;127;117m▁of\u001b[0m \u001b[0;30;48;2;215;48;39m▁Lang\u001b[0m \u001b[0;30;48;2;117;107;177mchain\u001b[0m \u001b[0;30;48;2;175;141;195m?\u001b[0m \u001b[0;30;48;2;102;194;165m▁What\u001b[0m \u001b[0;30;48;2;128;128;0m▁are\u001b[0m \u001b[0;30;48;2;44;127;117m▁the\u001b[0m \u001b[0;30;48;2;215;48;39m▁models\u001b[0m \u001b[0;30;48;2;117;107;177m▁available\u001b[0m \u001b[0;30;48;2;175;141;195m▁in\u001b[0m \u001b[0;30;48;2;102;194;165m▁L\u001b[0m \u001b[0;30;48;2;128;128;0mLM\u001b[0m \u001b[0;30;48;2;44;127;117m?\u001b[0m \u001b[0;30;48;2;215;48;39m<0x0A>\u001b[0m \u001b[0;30;48;2;117;107;177m<0x0A>\u001b[0m \u001b[0;30;48;2;175;141;195mshow\u001b[0m \u001b[0;30;48;2;102;194;165m_\u001b[0m \u001b[0;30;48;2;128;128;0moutput\u001b[0m \u001b[0;30;48;2;44;127;117m▁False\u001b[0m \u001b[0;30;48;2;215;48;39m▁if\u001b[0m \u001b[0;30;48;2;117;107;177m▁n\u001b[0m \u001b[0;30;48;2;175;141;195m▁>=\u001b[0m \u001b[0;30;48;2;102;194;165m▁\u001b[0m \u001b[0;30;48;2;128;128;0m7\u001b[0m \u001b[0;30;48;2;44;127;117m0\u001b[0m \u001b[0;30;48;2;215;48;39m0\u001b[0m \u001b[0;30;48;2;117;107;177m▁else\u001b[0m \u001b[0;30;48;2;175;141;195m:\u001b[0m \u001b[0;30;48;2;102;194;165m▁use\u001b[0m \u001b[0;30;48;2;128;128;0m▁the\u001b[0m \u001b[0;30;48;2;44;127;117m▁input\u001b[0m \u001b[0;30;48;2;215;48;39m▁from\u001b[0m \u001b[0;30;48;2;117;107;177m▁user\u001b[0m \u001b[0;30;48;2;175;141;195m:\u001b[0m \u001b[0;30;48;2;102;194;165m▁\"\u001b[0m \u001b[0;30;48;2;128;128;0m▁\"\u001b[0m \u001b[0;30;48;2;44;127;117m<0x0A>\u001b[0m \u001b[0;30;48;2;215;48;39m<0x0A>\u001b[0m \u001b[0;30;48;2;117;107;177m1\u001b[0m \u001b[0;30;48;2;175;141;195m5\u001b[0m \u001b[0;30;48;2;102;194;165m*\u001b[0m \u001b[0;30;48;2;128;128;0m8\u001b[0m \u001b[0;30;48;2;44;127;117m5\u001b[0m \u001b[0;30;48;2;215;48;39m5\u001b[0m \u001b[0;30;48;2;117;107;177m+\u001b[0m \u001b[0;30;48;2;175;141;195m3\u001b[0m \u001b[0;30;48;2;102;194;165m<0x0A>\u001b[0m "
          ]
        }
      ]
    },
    {
      "cell_type": "code",
      "source": [
        "show_tokens(text, \"facebook/galactica-1.3b\")"
      ],
      "metadata": {
        "colab": {
          "base_uri": "https://localhost:8080/"
        },
        "id": "gt4Pfz6UR-mR",
        "outputId": "d5016ac1-463b-4510-9dde-51ec3f470b3b"
      },
      "execution_count": 71,
      "outputs": [
        {
          "output_type": "stream",
          "name": "stdout",
          "text": [
            "\u001b[0;30;48;2;44;127;117mĊ\u001b[0m \u001b[0;30;48;2;215;48;39mWhat\u001b[0m \u001b[0;30;48;2;117;107;177mĠis\u001b[0m \u001b[0;30;48;2;175;141;195mĠthe\u001b[0m \u001b[0;30;48;2;102;194;165mĠLL\u001b[0m \u001b[0;30;48;2;128;128;0mM\u001b[0m \u001b[0;30;48;2;44;127;117m?\u001b[0m \u001b[0;30;48;2;215;48;39mĠWhat\u001b[0m \u001b[0;30;48;2;117;107;177mĠis\u001b[0m \u001b[0;30;48;2;175;141;195mĠthe\u001b[0m \u001b[0;30;48;2;102;194;165mĠuse\u001b[0m \u001b[0;30;48;2;128;128;0mĠof\u001b[0m \u001b[0;30;48;2;44;127;117mĠLang\u001b[0m \u001b[0;30;48;2;215;48;39mchain\u001b[0m \u001b[0;30;48;2;117;107;177m?\u001b[0m \u001b[0;30;48;2;175;141;195mĠWhat\u001b[0m \u001b[0;30;48;2;102;194;165mĠare\u001b[0m \u001b[0;30;48;2;128;128;0mĠthe\u001b[0m \u001b[0;30;48;2;44;127;117mĠmodels\u001b[0m \u001b[0;30;48;2;215;48;39mĠavailable\u001b[0m \u001b[0;30;48;2;117;107;177mĠin\u001b[0m \u001b[0;30;48;2;175;141;195mĠLL\u001b[0m \u001b[0;30;48;2;102;194;165mM\u001b[0m \u001b[0;30;48;2;128;128;0m?\u001b[0m \u001b[0;30;48;2;44;127;117mĊ\u001b[0m \u001b[0;30;48;2;215;48;39mĊ\u001b[0m \u001b[0;30;48;2;117;107;177mshow\u001b[0m \u001b[0;30;48;2;175;141;195m_\u001b[0m \u001b[0;30;48;2;102;194;165moutput\u001b[0m \u001b[0;30;48;2;128;128;0mĠFalse\u001b[0m \u001b[0;30;48;2;44;127;117mĠif\u001b[0m \u001b[0;30;48;2;215;48;39mĠn\u001b[0m \u001b[0;30;48;2;117;107;177mĠ\u001b[0m \u001b[0;30;48;2;175;141;195m>\u001b[0m \u001b[0;30;48;2;102;194;165m=\u001b[0m \u001b[0;30;48;2;128;128;0mĠ\u001b[0m \u001b[0;30;48;2;44;127;117m7\u001b[0m \u001b[0;30;48;2;215;48;39m0\u001b[0m \u001b[0;30;48;2;117;107;177m0\u001b[0m \u001b[0;30;48;2;175;141;195mĠelse\u001b[0m \u001b[0;30;48;2;102;194;165m:\u001b[0m \u001b[0;30;48;2;128;128;0mĠuse\u001b[0m \u001b[0;30;48;2;44;127;117mĠthe\u001b[0m \u001b[0;30;48;2;215;48;39mĠinput\u001b[0m \u001b[0;30;48;2;117;107;177mĠfrom\u001b[0m \u001b[0;30;48;2;175;141;195mĠuser\u001b[0m \u001b[0;30;48;2;102;194;165m:\u001b[0m \u001b[0;30;48;2;128;128;0mĠ\u001b[0m \u001b[0;30;48;2;44;127;117m\"\u001b[0m \u001b[0;30;48;2;215;48;39mĠ\u001b[0m \u001b[0;30;48;2;117;107;177m\"\u001b[0m \u001b[0;30;48;2;175;141;195mĊ\u001b[0m \u001b[0;30;48;2;102;194;165mĊ\u001b[0m \u001b[0;30;48;2;128;128;0m1\u001b[0m \u001b[0;30;48;2;44;127;117m5\u001b[0m \u001b[0;30;48;2;215;48;39m*\u001b[0m \u001b[0;30;48;2;117;107;177m8\u001b[0m \u001b[0;30;48;2;175;141;195m5\u001b[0m \u001b[0;30;48;2;102;194;165m5\u001b[0m \u001b[0;30;48;2;128;128;0m+\u001b[0m \u001b[0;30;48;2;44;127;117m3\u001b[0m \u001b[0;30;48;2;215;48;39mĊ\u001b[0m "
          ]
        }
      ]
    },
    {
      "cell_type": "markdown",
      "source": [
        "\n",
        "\n",
        "\n",
        "#Contextualized Word Embeddings from a Language Model (BERT)"
      ],
      "metadata": {
        "id": "posDJmI8VAdU"
      }
    },
    {
      "cell_type": "code",
      "source": [
        "from transformers import AutoTokenizer, AutoModel\n",
        "\n",
        "#load the tokenizer\n",
        "tokenizer = AutoTokenizer.from_pretrained(\"microsoft/deberta-base\")\n",
        "\n",
        "#load the language model\n",
        "model = AutoModel.from_pretrained(\"microsoft/deberta-v3-xsmall\")\n",
        "\n",
        "#Tokenize the sentence\n",
        "tokens = tokenizer(\"What is the use of LLM?\", return_tensors=\"pt\")\n",
        "\n",
        "#process the tokens\n",
        "output = model(**tokens)[0]\n",
        "\n",
        "print(output)"
      ],
      "metadata": {
        "colab": {
          "base_uri": "https://localhost:8080/"
        },
        "id": "v_JsRcJqSE3N",
        "outputId": "cf888362-d5cc-4d3e-c052-cd5cc738b8b4"
      },
      "execution_count": 75,
      "outputs": [
        {
          "output_type": "stream",
          "name": "stdout",
          "text": [
            "tensor([[[-3.4084, -0.0206,  0.0135,  ..., -0.1310, -0.2714,  0.4145],\n",
            "         [ 0.0888, -0.1408,  0.9285,  ...,  1.0939,  0.1736, -0.8977],\n",
            "         [-0.6695,  0.5729, -0.0083,  ...,  1.4061, -0.2961,  1.9668],\n",
            "         ...,\n",
            "         [-0.5664,  0.1876,  0.5035,  ...,  0.2483,  0.1360,  0.0345],\n",
            "         [-1.3494, -0.5803,  0.0978,  ...,  0.8251, -0.0277, -0.8503],\n",
            "         [-3.2909,  0.0297,  0.1384,  ..., -0.1615, -0.3223,  0.0467]]],\n",
            "       grad_fn=<NativeLayerNormBackward0>)\n"
          ]
        }
      ]
    },
    {
      "cell_type": "code",
      "source": [
        "output.shape"
      ],
      "metadata": {
        "colab": {
          "base_uri": "https://localhost:8080/"
        },
        "id": "etYxfyueYQqA",
        "outputId": "d3b168ae-646f-469d-a99a-12bf11d7828b"
      },
      "execution_count": 76,
      "outputs": [
        {
          "output_type": "execute_result",
          "data": {
            "text/plain": [
              "torch.Size([1, 10, 384])"
            ]
          },
          "metadata": {},
          "execution_count": 76
        }
      ]
    },
    {
      "cell_type": "code",
      "source": [
        "for token in tokens['input_ids'][0]:\n",
        "  print(tokenizer.decode(token))"
      ],
      "metadata": {
        "colab": {
          "base_uri": "https://localhost:8080/"
        },
        "id": "C8MP9scCYVWY",
        "outputId": "f5c193ed-15d0-4dc1-845b-0b8ca96c2831"
      },
      "execution_count": 77,
      "outputs": [
        {
          "output_type": "stream",
          "name": "stdout",
          "text": [
            "[CLS]\n",
            "What\n",
            " is\n",
            " the\n",
            " use\n",
            " of\n",
            " LL\n",
            "M\n",
            "?\n",
            "[SEP]\n"
          ]
        }
      ]
    },
    {
      "cell_type": "markdown",
      "source": [
        "#Text Embedding(Sentence and full documnets)"
      ],
      "metadata": {
        "id": "lp1MUFwhZ2XL"
      }
    },
    {
      "cell_type": "code",
      "source": [
        "from sentence_transformers import SentenceTransformer\n",
        "\n",
        "#Load the model\n",
        "model = SentenceTransformer('sentence-transformers/all-mpnet-base-v2')\n",
        "\n",
        "#Convert the text to text embedding\n",
        "vector = model.encode(\"What is the use of Langchain?\")"
      ],
      "metadata": {
        "id": "QHcHBE88Zryh"
      },
      "execution_count": 80,
      "outputs": []
    },
    {
      "cell_type": "code",
      "source": [
        "vector.shape"
      ],
      "metadata": {
        "colab": {
          "base_uri": "https://localhost:8080/"
        },
        "id": "DymLVahGatfl",
        "outputId": "1eb04d77-2055-4295-96f8-caf091a93006"
      },
      "execution_count": 81,
      "outputs": [
        {
          "output_type": "execute_result",
          "data": {
            "text/plain": [
              "(768,)"
            ]
          },
          "metadata": {},
          "execution_count": 81
        }
      ]
    },
    {
      "cell_type": "markdown",
      "source": [
        "#Word embedding beyond LLMs\n"
      ],
      "metadata": {
        "id": "eE2Rg-Fzazfo"
      }
    },
    {
      "cell_type": "code",
      "source": [
        "import gensim.downloader as api\n",
        "\n",
        "# use glove embeddings which is trained on wikipedia, vector size : 50)\n",
        "# word2vec-google-news-300 is another option\n",
        "\n",
        "model = api.load(\"glove-wiki-gigaword-50\")"
      ],
      "metadata": {
        "colab": {
          "base_uri": "https://localhost:8080/"
        },
        "id": "S6ZIVBrEawIL",
        "outputId": "f03e9b2b-8ff9-484a-b807-da51c69ec78a"
      },
      "execution_count": 11,
      "outputs": [
        {
          "output_type": "stream",
          "name": "stdout",
          "text": [
            "[==================================================] 100.0% 66.0/66.0MB downloaded\n"
          ]
        }
      ]
    },
    {
      "cell_type": "code",
      "source": [
        "model_2 = api.load(\"word2vec-google-news-300\")"
      ],
      "metadata": {
        "id": "oFLhE9bI_SsU"
      },
      "execution_count": null,
      "outputs": []
    },
    {
      "cell_type": "code",
      "source": [
        "model.most_similar([model['aeroplanes']], topn=10)"
      ],
      "metadata": {
        "colab": {
          "base_uri": "https://localhost:8080/"
        },
        "id": "h84SdI6_c1ov",
        "outputId": "b3083a5b-e5ca-4365-f267-f702a280b1b5"
      },
      "execution_count": 88,
      "outputs": [
        {
          "output_type": "execute_result",
          "data": {
            "text/plain": [
              "[('aeroplanes', 1.0000001192092896),\n",
              " ('gliders', 0.776185929775238),\n",
              " ('muskets', 0.7652149796485901),\n",
              " ('machine-guns', 0.7167890071868896),\n",
              " ('b-29s', 0.7126129865646362),\n",
              " ('hovercraft', 0.7082041501998901),\n",
              " ('cruisers', 0.7070890069007874),\n",
              " ('seaplanes', 0.7065178751945496),\n",
              " ('self-propelled', 0.7062690854072571),\n",
              " ('aircrafts', 0.7022036910057068)]"
            ]
          },
          "metadata": {},
          "execution_count": 88
        }
      ]
    },
    {
      "cell_type": "code",
      "source": [
        "model_2.most_similar([model_2['India']], topn=11)"
      ],
      "metadata": {
        "colab": {
          "base_uri": "https://localhost:8080/"
        },
        "id": "_43pI8e4eCNv",
        "outputId": "239cf5e0-3afd-4804-dbb0-4266c528a790"
      },
      "execution_count": 90,
      "outputs": [
        {
          "output_type": "execute_result",
          "data": {
            "text/plain": [
              "[('India', 1.0000001192092896),\n",
              " ('Indias', 0.7384199500083923),\n",
              " ('Indiaâ_€_™', 0.6843486428260803),\n",
              " ('Pakistan', 0.6706861257553101),\n",
              " ('Delhi', 0.6632035970687866),\n",
              " ('Bangalore', 0.6583030819892883),\n",
              " ('subcontinent', 0.6579218506813049),\n",
              " ('Bangladesh', 0.6527796983718872),\n",
              " ('sub_continent', 0.650303840637207),\n",
              " ('Mumbai', 0.6495688557624817),\n",
              " ('Sri_Lanka', 0.6445952653884888)]"
            ]
          },
          "metadata": {},
          "execution_count": 90
        }
      ]
    },
    {
      "cell_type": "markdown",
      "source": [
        "#Recommending Movies by embeddings"
      ],
      "metadata": {
        "id": "z4fy0dhZelit"
      }
    },
    {
      "cell_type": "code",
      "source": [
        "import pandas as pd\n",
        "from urllib import request\n",
        "\n",
        "#Get the movies dataset file\n",
        "data = request.urlopen('https://storage.googleapis.com/maps-premium/dataset/yes_complete/train.txt')\n",
        "\n",
        "#Parse the playlist dataset file. Skip the first two lines as thet contain metadata\n",
        "\n",
        "lines = data.read().decode(\"utf-8\").split('\\n')[2:]\n",
        "\n",
        "#Remove the playlist with only one song\n",
        "playlist = [s.rstrip().split() for s in lines if len(s.split())>1]\n",
        "\n",
        "#Load song metadata\n",
        "song_file = request.urlopen('https://storage.googleapis.com/maps-premium/dataset/yes_complete/song_hash.txt')\n",
        "song_file = song_file.read().decode(\"utf-8\").split('\\n')\n",
        "songs = [s.rstrip().split('\\t') for s in song_file]\n",
        "songs_df = pd.DataFrame(data=songs, columns = ['id', 'title', 'artist'])\n",
        "songs_df = songs_df.set_index('id')"
      ],
      "metadata": {
        "id": "0j6ql-YNelMm"
      },
      "execution_count": 12,
      "outputs": []
    },
    {
      "cell_type": "code",
      "source": [
        "songs_df.head()"
      ],
      "metadata": {
        "colab": {
          "base_uri": "https://localhost:8080/",
          "height": 237
        },
        "id": "nzKu6Tua-qch",
        "outputId": "e5c3239a-3bcc-4114-f684-a4bd977d6520"
      },
      "execution_count": 8,
      "outputs": [
        {
          "output_type": "execute_result",
          "data": {
            "text/plain": [
              "                                                title      artist\n",
              "id                                                               \n",
              "0                        Gucci Time (w\\/ Swizz Beatz)  Gucci Mane\n",
              "1   Aston Martin Music (w\\/ Drake & Chrisette Mich...   Rick Ross\n",
              "2                       Get Back Up (w\\/ Chris Brown)        T.I.\n",
              "3                  Hot Toddy (w\\/ Jay-Z & Ester Dean)       Usher\n",
              "4                                        Whip My Hair      Willow"
            ],
            "text/html": [
              "\n",
              "  <div id=\"df-88cbb2ad-80e6-47e8-9bd5-55f7b989fdf4\" class=\"colab-df-container\">\n",
              "    <div>\n",
              "<style scoped>\n",
              "    .dataframe tbody tr th:only-of-type {\n",
              "        vertical-align: middle;\n",
              "    }\n",
              "\n",
              "    .dataframe tbody tr th {\n",
              "        vertical-align: top;\n",
              "    }\n",
              "\n",
              "    .dataframe thead th {\n",
              "        text-align: right;\n",
              "    }\n",
              "</style>\n",
              "<table border=\"1\" class=\"dataframe\">\n",
              "  <thead>\n",
              "    <tr style=\"text-align: right;\">\n",
              "      <th></th>\n",
              "      <th>title</th>\n",
              "      <th>artist</th>\n",
              "    </tr>\n",
              "    <tr>\n",
              "      <th>id</th>\n",
              "      <th></th>\n",
              "      <th></th>\n",
              "    </tr>\n",
              "  </thead>\n",
              "  <tbody>\n",
              "    <tr>\n",
              "      <th>0</th>\n",
              "      <td>Gucci Time (w\\/ Swizz Beatz)</td>\n",
              "      <td>Gucci Mane</td>\n",
              "    </tr>\n",
              "    <tr>\n",
              "      <th>1</th>\n",
              "      <td>Aston Martin Music (w\\/ Drake &amp; Chrisette Mich...</td>\n",
              "      <td>Rick Ross</td>\n",
              "    </tr>\n",
              "    <tr>\n",
              "      <th>2</th>\n",
              "      <td>Get Back Up (w\\/ Chris Brown)</td>\n",
              "      <td>T.I.</td>\n",
              "    </tr>\n",
              "    <tr>\n",
              "      <th>3</th>\n",
              "      <td>Hot Toddy (w\\/ Jay-Z &amp; Ester Dean)</td>\n",
              "      <td>Usher</td>\n",
              "    </tr>\n",
              "    <tr>\n",
              "      <th>4</th>\n",
              "      <td>Whip My Hair</td>\n",
              "      <td>Willow</td>\n",
              "    </tr>\n",
              "  </tbody>\n",
              "</table>\n",
              "</div>\n",
              "    <div class=\"colab-df-buttons\">\n",
              "\n",
              "  <div class=\"colab-df-container\">\n",
              "    <button class=\"colab-df-convert\" onclick=\"convertToInteractive('df-88cbb2ad-80e6-47e8-9bd5-55f7b989fdf4')\"\n",
              "            title=\"Convert this dataframe to an interactive table.\"\n",
              "            style=\"display:none;\">\n",
              "\n",
              "  <svg xmlns=\"http://www.w3.org/2000/svg\" height=\"24px\" viewBox=\"0 -960 960 960\">\n",
              "    <path d=\"M120-120v-720h720v720H120Zm60-500h600v-160H180v160Zm220 220h160v-160H400v160Zm0 220h160v-160H400v160ZM180-400h160v-160H180v160Zm440 0h160v-160H620v160ZM180-180h160v-160H180v160Zm440 0h160v-160H620v160Z\"/>\n",
              "  </svg>\n",
              "    </button>\n",
              "\n",
              "  <style>\n",
              "    .colab-df-container {\n",
              "      display:flex;\n",
              "      gap: 12px;\n",
              "    }\n",
              "\n",
              "    .colab-df-convert {\n",
              "      background-color: #E8F0FE;\n",
              "      border: none;\n",
              "      border-radius: 50%;\n",
              "      cursor: pointer;\n",
              "      display: none;\n",
              "      fill: #1967D2;\n",
              "      height: 32px;\n",
              "      padding: 0 0 0 0;\n",
              "      width: 32px;\n",
              "    }\n",
              "\n",
              "    .colab-df-convert:hover {\n",
              "      background-color: #E2EBFA;\n",
              "      box-shadow: 0px 1px 2px rgba(60, 64, 67, 0.3), 0px 1px 3px 1px rgba(60, 64, 67, 0.15);\n",
              "      fill: #174EA6;\n",
              "    }\n",
              "\n",
              "    .colab-df-buttons div {\n",
              "      margin-bottom: 4px;\n",
              "    }\n",
              "\n",
              "    [theme=dark] .colab-df-convert {\n",
              "      background-color: #3B4455;\n",
              "      fill: #D2E3FC;\n",
              "    }\n",
              "\n",
              "    [theme=dark] .colab-df-convert:hover {\n",
              "      background-color: #434B5C;\n",
              "      box-shadow: 0px 1px 3px 1px rgba(0, 0, 0, 0.15);\n",
              "      filter: drop-shadow(0px 1px 2px rgba(0, 0, 0, 0.3));\n",
              "      fill: #FFFFFF;\n",
              "    }\n",
              "  </style>\n",
              "\n",
              "    <script>\n",
              "      const buttonEl =\n",
              "        document.querySelector('#df-88cbb2ad-80e6-47e8-9bd5-55f7b989fdf4 button.colab-df-convert');\n",
              "      buttonEl.style.display =\n",
              "        google.colab.kernel.accessAllowed ? 'block' : 'none';\n",
              "\n",
              "      async function convertToInteractive(key) {\n",
              "        const element = document.querySelector('#df-88cbb2ad-80e6-47e8-9bd5-55f7b989fdf4');\n",
              "        const dataTable =\n",
              "          await google.colab.kernel.invokeFunction('convertToInteractive',\n",
              "                                                    [key], {});\n",
              "        if (!dataTable) return;\n",
              "\n",
              "        const docLinkHtml = 'Like what you see? Visit the ' +\n",
              "          '<a target=\"_blank\" href=https://colab.research.google.com/notebooks/data_table.ipynb>data table notebook</a>'\n",
              "          + ' to learn more about interactive tables.';\n",
              "        element.innerHTML = '';\n",
              "        dataTable['output_type'] = 'display_data';\n",
              "        await google.colab.output.renderOutput(dataTable, element);\n",
              "        const docLink = document.createElement('div');\n",
              "        docLink.innerHTML = docLinkHtml;\n",
              "        element.appendChild(docLink);\n",
              "      }\n",
              "    </script>\n",
              "  </div>\n",
              "\n",
              "\n",
              "    <div id=\"df-4543d445-3a16-405b-a541-55da58b81a18\">\n",
              "      <button class=\"colab-df-quickchart\" onclick=\"quickchart('df-4543d445-3a16-405b-a541-55da58b81a18')\"\n",
              "                title=\"Suggest charts\"\n",
              "                style=\"display:none;\">\n",
              "\n",
              "<svg xmlns=\"http://www.w3.org/2000/svg\" height=\"24px\"viewBox=\"0 0 24 24\"\n",
              "     width=\"24px\">\n",
              "    <g>\n",
              "        <path d=\"M19 3H5c-1.1 0-2 .9-2 2v14c0 1.1.9 2 2 2h14c1.1 0 2-.9 2-2V5c0-1.1-.9-2-2-2zM9 17H7v-7h2v7zm4 0h-2V7h2v10zm4 0h-2v-4h2v4z\"/>\n",
              "    </g>\n",
              "</svg>\n",
              "      </button>\n",
              "\n",
              "<style>\n",
              "  .colab-df-quickchart {\n",
              "      --bg-color: #E8F0FE;\n",
              "      --fill-color: #1967D2;\n",
              "      --hover-bg-color: #E2EBFA;\n",
              "      --hover-fill-color: #174EA6;\n",
              "      --disabled-fill-color: #AAA;\n",
              "      --disabled-bg-color: #DDD;\n",
              "  }\n",
              "\n",
              "  [theme=dark] .colab-df-quickchart {\n",
              "      --bg-color: #3B4455;\n",
              "      --fill-color: #D2E3FC;\n",
              "      --hover-bg-color: #434B5C;\n",
              "      --hover-fill-color: #FFFFFF;\n",
              "      --disabled-bg-color: #3B4455;\n",
              "      --disabled-fill-color: #666;\n",
              "  }\n",
              "\n",
              "  .colab-df-quickchart {\n",
              "    background-color: var(--bg-color);\n",
              "    border: none;\n",
              "    border-radius: 50%;\n",
              "    cursor: pointer;\n",
              "    display: none;\n",
              "    fill: var(--fill-color);\n",
              "    height: 32px;\n",
              "    padding: 0;\n",
              "    width: 32px;\n",
              "  }\n",
              "\n",
              "  .colab-df-quickchart:hover {\n",
              "    background-color: var(--hover-bg-color);\n",
              "    box-shadow: 0 1px 2px rgba(60, 64, 67, 0.3), 0 1px 3px 1px rgba(60, 64, 67, 0.15);\n",
              "    fill: var(--button-hover-fill-color);\n",
              "  }\n",
              "\n",
              "  .colab-df-quickchart-complete:disabled,\n",
              "  .colab-df-quickchart-complete:disabled:hover {\n",
              "    background-color: var(--disabled-bg-color);\n",
              "    fill: var(--disabled-fill-color);\n",
              "    box-shadow: none;\n",
              "  }\n",
              "\n",
              "  .colab-df-spinner {\n",
              "    border: 2px solid var(--fill-color);\n",
              "    border-color: transparent;\n",
              "    border-bottom-color: var(--fill-color);\n",
              "    animation:\n",
              "      spin 1s steps(1) infinite;\n",
              "  }\n",
              "\n",
              "  @keyframes spin {\n",
              "    0% {\n",
              "      border-color: transparent;\n",
              "      border-bottom-color: var(--fill-color);\n",
              "      border-left-color: var(--fill-color);\n",
              "    }\n",
              "    20% {\n",
              "      border-color: transparent;\n",
              "      border-left-color: var(--fill-color);\n",
              "      border-top-color: var(--fill-color);\n",
              "    }\n",
              "    30% {\n",
              "      border-color: transparent;\n",
              "      border-left-color: var(--fill-color);\n",
              "      border-top-color: var(--fill-color);\n",
              "      border-right-color: var(--fill-color);\n",
              "    }\n",
              "    40% {\n",
              "      border-color: transparent;\n",
              "      border-right-color: var(--fill-color);\n",
              "      border-top-color: var(--fill-color);\n",
              "    }\n",
              "    60% {\n",
              "      border-color: transparent;\n",
              "      border-right-color: var(--fill-color);\n",
              "    }\n",
              "    80% {\n",
              "      border-color: transparent;\n",
              "      border-right-color: var(--fill-color);\n",
              "      border-bottom-color: var(--fill-color);\n",
              "    }\n",
              "    90% {\n",
              "      border-color: transparent;\n",
              "      border-bottom-color: var(--fill-color);\n",
              "    }\n",
              "  }\n",
              "</style>\n",
              "\n",
              "      <script>\n",
              "        async function quickchart(key) {\n",
              "          const quickchartButtonEl =\n",
              "            document.querySelector('#' + key + ' button');\n",
              "          quickchartButtonEl.disabled = true;  // To prevent multiple clicks.\n",
              "          quickchartButtonEl.classList.add('colab-df-spinner');\n",
              "          try {\n",
              "            const charts = await google.colab.kernel.invokeFunction(\n",
              "                'suggestCharts', [key], {});\n",
              "          } catch (error) {\n",
              "            console.error('Error during call to suggestCharts:', error);\n",
              "          }\n",
              "          quickchartButtonEl.classList.remove('colab-df-spinner');\n",
              "          quickchartButtonEl.classList.add('colab-df-quickchart-complete');\n",
              "        }\n",
              "        (() => {\n",
              "          let quickchartButtonEl =\n",
              "            document.querySelector('#df-4543d445-3a16-405b-a541-55da58b81a18 button');\n",
              "          quickchartButtonEl.style.display =\n",
              "            google.colab.kernel.accessAllowed ? 'block' : 'none';\n",
              "        })();\n",
              "      </script>\n",
              "    </div>\n",
              "\n",
              "    </div>\n",
              "  </div>\n"
            ],
            "application/vnd.google.colaboratory.intrinsic+json": {
              "type": "dataframe",
              "variable_name": "songs_df",
              "summary": "{\n  \"name\": \"songs_df\",\n  \"rows\": 75263,\n  \"fields\": [\n    {\n      \"column\": \"id\",\n      \"properties\": {\n        \"dtype\": \"string\",\n        \"num_unique_values\": 75263,\n        \"samples\": [\n          \"20747 \",\n          \"44444 \",\n          \"6994 \"\n        ],\n        \"semantic_type\": \"\",\n        \"description\": \"\"\n      }\n    },\n    {\n      \"column\": \"title\",\n      \"properties\": {\n        \"dtype\": \"string\",\n        \"num_unique_values\": 57507,\n        \"samples\": [\n          \"Two (w\\\\/ Sheryl Crow)\",\n          \"Libera\",\n          \"Tropica\"\n        ],\n        \"semantic_type\": \"\",\n        \"description\": \"\"\n      }\n    },\n    {\n      \"column\": \"artist\",\n      \"properties\": {\n        \"dtype\": \"category\",\n        \"num_unique_values\": 15976,\n        \"samples\": [\n          \"The Hues Corporation\",\n          \"Yes\",\n          \"The Upsidedown\"\n        ],\n        \"semantic_type\": \"\",\n        \"description\": \"\"\n      }\n    }\n  ]\n}"
            }
          },
          "metadata": {},
          "execution_count": 8
        }
      ]
    },
    {
      "cell_type": "code",
      "source": [
        "print(\"playlist1: \", playlist[0], \"\\n\",\"playlist2: \", playlist[1])"
      ],
      "metadata": {
        "colab": {
          "base_uri": "https://localhost:8080/"
        },
        "id": "26U8Rau6jIiK",
        "outputId": "2833fb5f-45d2-4ea6-9e75-6b544066edfa"
      },
      "execution_count": 4,
      "outputs": [
        {
          "output_type": "stream",
          "name": "stdout",
          "text": [
            "playlist1:  ['0', '1', '2', '3', '4', '5', '6', '7', '8', '9', '10', '11', '12', '13', '14', '15', '16', '17', '18', '19', '20', '21', '22', '23', '24', '25', '26', '27', '28', '29', '30', '31', '32', '33', '34', '35', '36', '37', '38', '39', '40', '41', '2', '42', '43', '44', '45', '46', '47', '48', '20', '49', '8', '50', '51', '52', '53', '54', '55', '56', '57', '25', '58', '59', '60', '61', '62', '3', '63', '64', '65', '66', '46', '47', '67', '2', '48', '68', '69', '70', '57', '50', '71', '72', '53', '73', '25', '74', '59', '20', '46', '75', '76', '77', '59', '20', '43'] \n",
            " playlist2:  ['78', '79', '80', '3', '62', '81', '14', '82', '48', '83', '84', '17', '85', '86', '87', '88', '74', '89', '90', '91', '4', '73', '62', '92', '17', '53', '59', '93', '94', '51', '50', '27', '95', '48', '96', '97', '98', '99', '100', '57', '101', '102', '25', '103', '3', '104', '105', '106', '107', '47', '108', '109', '110', '111', '112', '113', '25', '63', '62', '114', '115', '84', '116', '117', '118', '119', '120', '121', '122', '123', '50', '70', '71', '124', '17', '85', '14', '82', '48', '125', '47', '46', '72', '53', '25', '73', '4', '126', '59', '74', '20', '43', '127', '128', '129', '13', '82', '48', '130', '131', '132', '133', '134', '135', '136', '137', '59', '46', '138', '43', '20', '139', '140', '73', '57', '70', '141', '3', '1', '74', '142', '143', '144', '145', '48', '13', '25', '146', '50', '147', '126', '59', '20', '148', '149', '150', '151', '152', '56', '153', '154', '155', '156', '157', '158', '159', '160', '161', '162', '163', '164', '165', '166', '167', '168', '169', '170', '171', '172', '173', '174', '175', '60', '176', '51', '177', '178', '179', '180', '181', '182', '183', '184', '185', '57', '186', '187', '188', '189', '190', '191', '46', '192', '193', '194', '195', '196', '197', '198', '25', '199', '200', '49', '201', '100', '202', '203', '204', '205', '206', '207', '32', '208', '209', '210']\n"
          ]
        }
      ]
    },
    {
      "cell_type": "code",
      "source": [
        "from gensim.models import Word2Vec\n",
        "\n",
        "#train our Word2Vec model\n",
        "\n",
        "model = Word2Vec(\n",
        "    playlist, vector_size=32, window=20, negative=50, min_count=1, workers=4\n",
        ")"
      ],
      "metadata": {
        "id": "cuaO4nVjjhBq"
      },
      "execution_count": 15,
      "outputs": []
    },
    {
      "cell_type": "code",
      "source": [
        "song_id = 3892\n",
        "\n",
        "#check the model for songs similar to #357\n",
        "model.wv.most_similar(positive=str(song_id))"
      ],
      "metadata": {
        "colab": {
          "base_uri": "https://localhost:8080/"
        },
        "id": "NaY6JL-T-bRq",
        "outputId": "eaae8bd8-f781-4c32-be5d-5bc3384f74c3"
      },
      "execution_count": 24,
      "outputs": [
        {
          "output_type": "execute_result",
          "data": {
            "text/plain": [
              "[('7325', 0.9936237931251526),\n",
              " ('8484', 0.9932810664176941),\n",
              " ('16522', 0.9932749271392822),\n",
              " ('4117', 0.9927000403404236),\n",
              " ('3936', 0.9926295876502991),\n",
              " ('4193', 0.9920005798339844),\n",
              " ('3850', 0.9918624758720398),\n",
              " ('3760', 0.9918587803840637),\n",
              " ('3480', 0.9914047718048096),\n",
              " ('8593', 0.991335928440094)]"
            ]
          },
          "metadata": {},
          "execution_count": 24
        }
      ]
    },
    {
      "cell_type": "code",
      "source": [
        "print(songs_df.iloc[3892])"
      ],
      "metadata": {
        "colab": {
          "base_uri": "https://localhost:8080/"
        },
        "id": "2UO6BEwFAOHD",
        "outputId": "10337191-9c59-4379-b06f-f5092bcc3c0f"
      },
      "execution_count": 25,
      "outputs": [
        {
          "output_type": "stream",
          "name": "stdout",
          "text": [
            "title     Borderline\n",
            "artist       Madonna\n",
            "Name: 3892 , dtype: object\n"
          ]
        }
      ]
    },
    {
      "cell_type": "code",
      "source": [
        "import numpy as np\n",
        "\n",
        "def print_recommendations(song_id):\n",
        "  similar_songs = np.array(\n",
        "      model.wv.most_similar(positive=str(song_id), topn=5)\n",
        "  )[:,0]\n",
        "  print(similar_songs)\n",
        "  return songs_df.iloc[similar_songs]\n",
        "\n",
        "print_recommendations(3892)"
      ],
      "metadata": {
        "colab": {
          "base_uri": "https://localhost:8080/",
          "height": 256
        },
        "id": "wU3Elh3wAhM5",
        "outputId": "011b55d8-0874-46fa-9b33-24faed012cc9"
      },
      "execution_count": 31,
      "outputs": [
        {
          "output_type": "stream",
          "name": "stdout",
          "text": [
            "['7325' '8484' '16522' '4117' '3936']\n"
          ]
        },
        {
          "output_type": "execute_result",
          "data": {
            "text/plain": [
              "                                                    title           artist\n",
              "id                                                                        \n",
              "7325                                           You And Me        Lifehouse\n",
              "8484                          Flashdance...What A Feeling       Irene Cara\n",
              "16522                                             Beat It  Michael Jackson\n",
              "4117    I've Had The Time Of My Life (W\\/ Jennifer War...      Bill Medley\n",
              "3936                                        Forever Young      Rod Stewart"
            ],
            "text/html": [
              "\n",
              "  <div id=\"df-71aa6a3a-f17d-4322-b4a9-87c639c4851b\" class=\"colab-df-container\">\n",
              "    <div>\n",
              "<style scoped>\n",
              "    .dataframe tbody tr th:only-of-type {\n",
              "        vertical-align: middle;\n",
              "    }\n",
              "\n",
              "    .dataframe tbody tr th {\n",
              "        vertical-align: top;\n",
              "    }\n",
              "\n",
              "    .dataframe thead th {\n",
              "        text-align: right;\n",
              "    }\n",
              "</style>\n",
              "<table border=\"1\" class=\"dataframe\">\n",
              "  <thead>\n",
              "    <tr style=\"text-align: right;\">\n",
              "      <th></th>\n",
              "      <th>title</th>\n",
              "      <th>artist</th>\n",
              "    </tr>\n",
              "    <tr>\n",
              "      <th>id</th>\n",
              "      <th></th>\n",
              "      <th></th>\n",
              "    </tr>\n",
              "  </thead>\n",
              "  <tbody>\n",
              "    <tr>\n",
              "      <th>7325</th>\n",
              "      <td>You And Me</td>\n",
              "      <td>Lifehouse</td>\n",
              "    </tr>\n",
              "    <tr>\n",
              "      <th>8484</th>\n",
              "      <td>Flashdance...What A Feeling</td>\n",
              "      <td>Irene Cara</td>\n",
              "    </tr>\n",
              "    <tr>\n",
              "      <th>16522</th>\n",
              "      <td>Beat It</td>\n",
              "      <td>Michael Jackson</td>\n",
              "    </tr>\n",
              "    <tr>\n",
              "      <th>4117</th>\n",
              "      <td>I've Had The Time Of My Life (W\\/ Jennifer War...</td>\n",
              "      <td>Bill Medley</td>\n",
              "    </tr>\n",
              "    <tr>\n",
              "      <th>3936</th>\n",
              "      <td>Forever Young</td>\n",
              "      <td>Rod Stewart</td>\n",
              "    </tr>\n",
              "  </tbody>\n",
              "</table>\n",
              "</div>\n",
              "    <div class=\"colab-df-buttons\">\n",
              "\n",
              "  <div class=\"colab-df-container\">\n",
              "    <button class=\"colab-df-convert\" onclick=\"convertToInteractive('df-71aa6a3a-f17d-4322-b4a9-87c639c4851b')\"\n",
              "            title=\"Convert this dataframe to an interactive table.\"\n",
              "            style=\"display:none;\">\n",
              "\n",
              "  <svg xmlns=\"http://www.w3.org/2000/svg\" height=\"24px\" viewBox=\"0 -960 960 960\">\n",
              "    <path d=\"M120-120v-720h720v720H120Zm60-500h600v-160H180v160Zm220 220h160v-160H400v160Zm0 220h160v-160H400v160ZM180-400h160v-160H180v160Zm440 0h160v-160H620v160ZM180-180h160v-160H180v160Zm440 0h160v-160H620v160Z\"/>\n",
              "  </svg>\n",
              "    </button>\n",
              "\n",
              "  <style>\n",
              "    .colab-df-container {\n",
              "      display:flex;\n",
              "      gap: 12px;\n",
              "    }\n",
              "\n",
              "    .colab-df-convert {\n",
              "      background-color: #E8F0FE;\n",
              "      border: none;\n",
              "      border-radius: 50%;\n",
              "      cursor: pointer;\n",
              "      display: none;\n",
              "      fill: #1967D2;\n",
              "      height: 32px;\n",
              "      padding: 0 0 0 0;\n",
              "      width: 32px;\n",
              "    }\n",
              "\n",
              "    .colab-df-convert:hover {\n",
              "      background-color: #E2EBFA;\n",
              "      box-shadow: 0px 1px 2px rgba(60, 64, 67, 0.3), 0px 1px 3px 1px rgba(60, 64, 67, 0.15);\n",
              "      fill: #174EA6;\n",
              "    }\n",
              "\n",
              "    .colab-df-buttons div {\n",
              "      margin-bottom: 4px;\n",
              "    }\n",
              "\n",
              "    [theme=dark] .colab-df-convert {\n",
              "      background-color: #3B4455;\n",
              "      fill: #D2E3FC;\n",
              "    }\n",
              "\n",
              "    [theme=dark] .colab-df-convert:hover {\n",
              "      background-color: #434B5C;\n",
              "      box-shadow: 0px 1px 3px 1px rgba(0, 0, 0, 0.15);\n",
              "      filter: drop-shadow(0px 1px 2px rgba(0, 0, 0, 0.3));\n",
              "      fill: #FFFFFF;\n",
              "    }\n",
              "  </style>\n",
              "\n",
              "    <script>\n",
              "      const buttonEl =\n",
              "        document.querySelector('#df-71aa6a3a-f17d-4322-b4a9-87c639c4851b button.colab-df-convert');\n",
              "      buttonEl.style.display =\n",
              "        google.colab.kernel.accessAllowed ? 'block' : 'none';\n",
              "\n",
              "      async function convertToInteractive(key) {\n",
              "        const element = document.querySelector('#df-71aa6a3a-f17d-4322-b4a9-87c639c4851b');\n",
              "        const dataTable =\n",
              "          await google.colab.kernel.invokeFunction('convertToInteractive',\n",
              "                                                    [key], {});\n",
              "        if (!dataTable) return;\n",
              "\n",
              "        const docLinkHtml = 'Like what you see? Visit the ' +\n",
              "          '<a target=\"_blank\" href=https://colab.research.google.com/notebooks/data_table.ipynb>data table notebook</a>'\n",
              "          + ' to learn more about interactive tables.';\n",
              "        element.innerHTML = '';\n",
              "        dataTable['output_type'] = 'display_data';\n",
              "        await google.colab.output.renderOutput(dataTable, element);\n",
              "        const docLink = document.createElement('div');\n",
              "        docLink.innerHTML = docLinkHtml;\n",
              "        element.appendChild(docLink);\n",
              "      }\n",
              "    </script>\n",
              "  </div>\n",
              "\n",
              "\n",
              "    <div id=\"df-9b2b0f7c-259c-46e8-b750-b501e366660f\">\n",
              "      <button class=\"colab-df-quickchart\" onclick=\"quickchart('df-9b2b0f7c-259c-46e8-b750-b501e366660f')\"\n",
              "                title=\"Suggest charts\"\n",
              "                style=\"display:none;\">\n",
              "\n",
              "<svg xmlns=\"http://www.w3.org/2000/svg\" height=\"24px\"viewBox=\"0 0 24 24\"\n",
              "     width=\"24px\">\n",
              "    <g>\n",
              "        <path d=\"M19 3H5c-1.1 0-2 .9-2 2v14c0 1.1.9 2 2 2h14c1.1 0 2-.9 2-2V5c0-1.1-.9-2-2-2zM9 17H7v-7h2v7zm4 0h-2V7h2v10zm4 0h-2v-4h2v4z\"/>\n",
              "    </g>\n",
              "</svg>\n",
              "      </button>\n",
              "\n",
              "<style>\n",
              "  .colab-df-quickchart {\n",
              "      --bg-color: #E8F0FE;\n",
              "      --fill-color: #1967D2;\n",
              "      --hover-bg-color: #E2EBFA;\n",
              "      --hover-fill-color: #174EA6;\n",
              "      --disabled-fill-color: #AAA;\n",
              "      --disabled-bg-color: #DDD;\n",
              "  }\n",
              "\n",
              "  [theme=dark] .colab-df-quickchart {\n",
              "      --bg-color: #3B4455;\n",
              "      --fill-color: #D2E3FC;\n",
              "      --hover-bg-color: #434B5C;\n",
              "      --hover-fill-color: #FFFFFF;\n",
              "      --disabled-bg-color: #3B4455;\n",
              "      --disabled-fill-color: #666;\n",
              "  }\n",
              "\n",
              "  .colab-df-quickchart {\n",
              "    background-color: var(--bg-color);\n",
              "    border: none;\n",
              "    border-radius: 50%;\n",
              "    cursor: pointer;\n",
              "    display: none;\n",
              "    fill: var(--fill-color);\n",
              "    height: 32px;\n",
              "    padding: 0;\n",
              "    width: 32px;\n",
              "  }\n",
              "\n",
              "  .colab-df-quickchart:hover {\n",
              "    background-color: var(--hover-bg-color);\n",
              "    box-shadow: 0 1px 2px rgba(60, 64, 67, 0.3), 0 1px 3px 1px rgba(60, 64, 67, 0.15);\n",
              "    fill: var(--button-hover-fill-color);\n",
              "  }\n",
              "\n",
              "  .colab-df-quickchart-complete:disabled,\n",
              "  .colab-df-quickchart-complete:disabled:hover {\n",
              "    background-color: var(--disabled-bg-color);\n",
              "    fill: var(--disabled-fill-color);\n",
              "    box-shadow: none;\n",
              "  }\n",
              "\n",
              "  .colab-df-spinner {\n",
              "    border: 2px solid var(--fill-color);\n",
              "    border-color: transparent;\n",
              "    border-bottom-color: var(--fill-color);\n",
              "    animation:\n",
              "      spin 1s steps(1) infinite;\n",
              "  }\n",
              "\n",
              "  @keyframes spin {\n",
              "    0% {\n",
              "      border-color: transparent;\n",
              "      border-bottom-color: var(--fill-color);\n",
              "      border-left-color: var(--fill-color);\n",
              "    }\n",
              "    20% {\n",
              "      border-color: transparent;\n",
              "      border-left-color: var(--fill-color);\n",
              "      border-top-color: var(--fill-color);\n",
              "    }\n",
              "    30% {\n",
              "      border-color: transparent;\n",
              "      border-left-color: var(--fill-color);\n",
              "      border-top-color: var(--fill-color);\n",
              "      border-right-color: var(--fill-color);\n",
              "    }\n",
              "    40% {\n",
              "      border-color: transparent;\n",
              "      border-right-color: var(--fill-color);\n",
              "      border-top-color: var(--fill-color);\n",
              "    }\n",
              "    60% {\n",
              "      border-color: transparent;\n",
              "      border-right-color: var(--fill-color);\n",
              "    }\n",
              "    80% {\n",
              "      border-color: transparent;\n",
              "      border-right-color: var(--fill-color);\n",
              "      border-bottom-color: var(--fill-color);\n",
              "    }\n",
              "    90% {\n",
              "      border-color: transparent;\n",
              "      border-bottom-color: var(--fill-color);\n",
              "    }\n",
              "  }\n",
              "</style>\n",
              "\n",
              "      <script>\n",
              "        async function quickchart(key) {\n",
              "          const quickchartButtonEl =\n",
              "            document.querySelector('#' + key + ' button');\n",
              "          quickchartButtonEl.disabled = true;  // To prevent multiple clicks.\n",
              "          quickchartButtonEl.classList.add('colab-df-spinner');\n",
              "          try {\n",
              "            const charts = await google.colab.kernel.invokeFunction(\n",
              "                'suggestCharts', [key], {});\n",
              "          } catch (error) {\n",
              "            console.error('Error during call to suggestCharts:', error);\n",
              "          }\n",
              "          quickchartButtonEl.classList.remove('colab-df-spinner');\n",
              "          quickchartButtonEl.classList.add('colab-df-quickchart-complete');\n",
              "        }\n",
              "        (() => {\n",
              "          let quickchartButtonEl =\n",
              "            document.querySelector('#df-9b2b0f7c-259c-46e8-b750-b501e366660f button');\n",
              "          quickchartButtonEl.style.display =\n",
              "            google.colab.kernel.accessAllowed ? 'block' : 'none';\n",
              "        })();\n",
              "      </script>\n",
              "    </div>\n",
              "\n",
              "    </div>\n",
              "  </div>\n"
            ],
            "application/vnd.google.colaboratory.intrinsic+json": {
              "type": "dataframe",
              "summary": "{\n  \"name\": \"print_recommendations(3892)\",\n  \"rows\": 5,\n  \"fields\": [\n    {\n      \"column\": \"id\",\n      \"properties\": {\n        \"dtype\": \"string\",\n        \"num_unique_values\": 5,\n        \"samples\": [\n          \"8484 \",\n          \"3936 \",\n          \"16522 \"\n        ],\n        \"semantic_type\": \"\",\n        \"description\": \"\"\n      }\n    },\n    {\n      \"column\": \"title\",\n      \"properties\": {\n        \"dtype\": \"string\",\n        \"num_unique_values\": 5,\n        \"samples\": [\n          \"Flashdance...What A Feeling\",\n          \"Forever Young\",\n          \"Beat It\"\n        ],\n        \"semantic_type\": \"\",\n        \"description\": \"\"\n      }\n    },\n    {\n      \"column\": \"artist\",\n      \"properties\": {\n        \"dtype\": \"string\",\n        \"num_unique_values\": 5,\n        \"samples\": [\n          \"Irene Cara\",\n          \"Rod Stewart\",\n          \"Michael Jackson\"\n        ],\n        \"semantic_type\": \"\",\n        \"description\": \"\"\n      }\n    }\n  ]\n}"
            }
          },
          "metadata": {},
          "execution_count": 31
        }
      ]
    },
    {
      "cell_type": "code",
      "source": [
        "print_recommendations(4200)"
      ],
      "metadata": {
        "colab": {
          "base_uri": "https://localhost:8080/",
          "height": 237
        },
        "id": "q5LT75sjBL-f",
        "outputId": "cd2d1a69-3a17-49b0-a0b1-9f807b3166a4"
      },
      "execution_count": 27,
      "outputs": [
        {
          "output_type": "execute_result",
          "data": {
            "text/plain": [
              "                             title        artist\n",
              "id                                              \n",
              "15659           Promises, Promises    Naked Eyes\n",
              "3629                  Don't Change          INXS\n",
              "3761                       Too Shy    Kajagoogoo\n",
              "4144                When It's Over     Sugar Ray\n",
              "3379    Things Can Only Get Better  Howard Jones"
            ],
            "text/html": [
              "\n",
              "  <div id=\"df-b7e98406-3649-491d-8173-531d67d246d8\" class=\"colab-df-container\">\n",
              "    <div>\n",
              "<style scoped>\n",
              "    .dataframe tbody tr th:only-of-type {\n",
              "        vertical-align: middle;\n",
              "    }\n",
              "\n",
              "    .dataframe tbody tr th {\n",
              "        vertical-align: top;\n",
              "    }\n",
              "\n",
              "    .dataframe thead th {\n",
              "        text-align: right;\n",
              "    }\n",
              "</style>\n",
              "<table border=\"1\" class=\"dataframe\">\n",
              "  <thead>\n",
              "    <tr style=\"text-align: right;\">\n",
              "      <th></th>\n",
              "      <th>title</th>\n",
              "      <th>artist</th>\n",
              "    </tr>\n",
              "    <tr>\n",
              "      <th>id</th>\n",
              "      <th></th>\n",
              "      <th></th>\n",
              "    </tr>\n",
              "  </thead>\n",
              "  <tbody>\n",
              "    <tr>\n",
              "      <th>15659</th>\n",
              "      <td>Promises, Promises</td>\n",
              "      <td>Naked Eyes</td>\n",
              "    </tr>\n",
              "    <tr>\n",
              "      <th>3629</th>\n",
              "      <td>Don't Change</td>\n",
              "      <td>INXS</td>\n",
              "    </tr>\n",
              "    <tr>\n",
              "      <th>3761</th>\n",
              "      <td>Too Shy</td>\n",
              "      <td>Kajagoogoo</td>\n",
              "    </tr>\n",
              "    <tr>\n",
              "      <th>4144</th>\n",
              "      <td>When It's Over</td>\n",
              "      <td>Sugar Ray</td>\n",
              "    </tr>\n",
              "    <tr>\n",
              "      <th>3379</th>\n",
              "      <td>Things Can Only Get Better</td>\n",
              "      <td>Howard Jones</td>\n",
              "    </tr>\n",
              "  </tbody>\n",
              "</table>\n",
              "</div>\n",
              "    <div class=\"colab-df-buttons\">\n",
              "\n",
              "  <div class=\"colab-df-container\">\n",
              "    <button class=\"colab-df-convert\" onclick=\"convertToInteractive('df-b7e98406-3649-491d-8173-531d67d246d8')\"\n",
              "            title=\"Convert this dataframe to an interactive table.\"\n",
              "            style=\"display:none;\">\n",
              "\n",
              "  <svg xmlns=\"http://www.w3.org/2000/svg\" height=\"24px\" viewBox=\"0 -960 960 960\">\n",
              "    <path d=\"M120-120v-720h720v720H120Zm60-500h600v-160H180v160Zm220 220h160v-160H400v160Zm0 220h160v-160H400v160ZM180-400h160v-160H180v160Zm440 0h160v-160H620v160ZM180-180h160v-160H180v160Zm440 0h160v-160H620v160Z\"/>\n",
              "  </svg>\n",
              "    </button>\n",
              "\n",
              "  <style>\n",
              "    .colab-df-container {\n",
              "      display:flex;\n",
              "      gap: 12px;\n",
              "    }\n",
              "\n",
              "    .colab-df-convert {\n",
              "      background-color: #E8F0FE;\n",
              "      border: none;\n",
              "      border-radius: 50%;\n",
              "      cursor: pointer;\n",
              "      display: none;\n",
              "      fill: #1967D2;\n",
              "      height: 32px;\n",
              "      padding: 0 0 0 0;\n",
              "      width: 32px;\n",
              "    }\n",
              "\n",
              "    .colab-df-convert:hover {\n",
              "      background-color: #E2EBFA;\n",
              "      box-shadow: 0px 1px 2px rgba(60, 64, 67, 0.3), 0px 1px 3px 1px rgba(60, 64, 67, 0.15);\n",
              "      fill: #174EA6;\n",
              "    }\n",
              "\n",
              "    .colab-df-buttons div {\n",
              "      margin-bottom: 4px;\n",
              "    }\n",
              "\n",
              "    [theme=dark] .colab-df-convert {\n",
              "      background-color: #3B4455;\n",
              "      fill: #D2E3FC;\n",
              "    }\n",
              "\n",
              "    [theme=dark] .colab-df-convert:hover {\n",
              "      background-color: #434B5C;\n",
              "      box-shadow: 0px 1px 3px 1px rgba(0, 0, 0, 0.15);\n",
              "      filter: drop-shadow(0px 1px 2px rgba(0, 0, 0, 0.3));\n",
              "      fill: #FFFFFF;\n",
              "    }\n",
              "  </style>\n",
              "\n",
              "    <script>\n",
              "      const buttonEl =\n",
              "        document.querySelector('#df-b7e98406-3649-491d-8173-531d67d246d8 button.colab-df-convert');\n",
              "      buttonEl.style.display =\n",
              "        google.colab.kernel.accessAllowed ? 'block' : 'none';\n",
              "\n",
              "      async function convertToInteractive(key) {\n",
              "        const element = document.querySelector('#df-b7e98406-3649-491d-8173-531d67d246d8');\n",
              "        const dataTable =\n",
              "          await google.colab.kernel.invokeFunction('convertToInteractive',\n",
              "                                                    [key], {});\n",
              "        if (!dataTable) return;\n",
              "\n",
              "        const docLinkHtml = 'Like what you see? Visit the ' +\n",
              "          '<a target=\"_blank\" href=https://colab.research.google.com/notebooks/data_table.ipynb>data table notebook</a>'\n",
              "          + ' to learn more about interactive tables.';\n",
              "        element.innerHTML = '';\n",
              "        dataTable['output_type'] = 'display_data';\n",
              "        await google.colab.output.renderOutput(dataTable, element);\n",
              "        const docLink = document.createElement('div');\n",
              "        docLink.innerHTML = docLinkHtml;\n",
              "        element.appendChild(docLink);\n",
              "      }\n",
              "    </script>\n",
              "  </div>\n",
              "\n",
              "\n",
              "    <div id=\"df-3cc61630-4ffd-4358-954e-143d7c98a12f\">\n",
              "      <button class=\"colab-df-quickchart\" onclick=\"quickchart('df-3cc61630-4ffd-4358-954e-143d7c98a12f')\"\n",
              "                title=\"Suggest charts\"\n",
              "                style=\"display:none;\">\n",
              "\n",
              "<svg xmlns=\"http://www.w3.org/2000/svg\" height=\"24px\"viewBox=\"0 0 24 24\"\n",
              "     width=\"24px\">\n",
              "    <g>\n",
              "        <path d=\"M19 3H5c-1.1 0-2 .9-2 2v14c0 1.1.9 2 2 2h14c1.1 0 2-.9 2-2V5c0-1.1-.9-2-2-2zM9 17H7v-7h2v7zm4 0h-2V7h2v10zm4 0h-2v-4h2v4z\"/>\n",
              "    </g>\n",
              "</svg>\n",
              "      </button>\n",
              "\n",
              "<style>\n",
              "  .colab-df-quickchart {\n",
              "      --bg-color: #E8F0FE;\n",
              "      --fill-color: #1967D2;\n",
              "      --hover-bg-color: #E2EBFA;\n",
              "      --hover-fill-color: #174EA6;\n",
              "      --disabled-fill-color: #AAA;\n",
              "      --disabled-bg-color: #DDD;\n",
              "  }\n",
              "\n",
              "  [theme=dark] .colab-df-quickchart {\n",
              "      --bg-color: #3B4455;\n",
              "      --fill-color: #D2E3FC;\n",
              "      --hover-bg-color: #434B5C;\n",
              "      --hover-fill-color: #FFFFFF;\n",
              "      --disabled-bg-color: #3B4455;\n",
              "      --disabled-fill-color: #666;\n",
              "  }\n",
              "\n",
              "  .colab-df-quickchart {\n",
              "    background-color: var(--bg-color);\n",
              "    border: none;\n",
              "    border-radius: 50%;\n",
              "    cursor: pointer;\n",
              "    display: none;\n",
              "    fill: var(--fill-color);\n",
              "    height: 32px;\n",
              "    padding: 0;\n",
              "    width: 32px;\n",
              "  }\n",
              "\n",
              "  .colab-df-quickchart:hover {\n",
              "    background-color: var(--hover-bg-color);\n",
              "    box-shadow: 0 1px 2px rgba(60, 64, 67, 0.3), 0 1px 3px 1px rgba(60, 64, 67, 0.15);\n",
              "    fill: var(--button-hover-fill-color);\n",
              "  }\n",
              "\n",
              "  .colab-df-quickchart-complete:disabled,\n",
              "  .colab-df-quickchart-complete:disabled:hover {\n",
              "    background-color: var(--disabled-bg-color);\n",
              "    fill: var(--disabled-fill-color);\n",
              "    box-shadow: none;\n",
              "  }\n",
              "\n",
              "  .colab-df-spinner {\n",
              "    border: 2px solid var(--fill-color);\n",
              "    border-color: transparent;\n",
              "    border-bottom-color: var(--fill-color);\n",
              "    animation:\n",
              "      spin 1s steps(1) infinite;\n",
              "  }\n",
              "\n",
              "  @keyframes spin {\n",
              "    0% {\n",
              "      border-color: transparent;\n",
              "      border-bottom-color: var(--fill-color);\n",
              "      border-left-color: var(--fill-color);\n",
              "    }\n",
              "    20% {\n",
              "      border-color: transparent;\n",
              "      border-left-color: var(--fill-color);\n",
              "      border-top-color: var(--fill-color);\n",
              "    }\n",
              "    30% {\n",
              "      border-color: transparent;\n",
              "      border-left-color: var(--fill-color);\n",
              "      border-top-color: var(--fill-color);\n",
              "      border-right-color: var(--fill-color);\n",
              "    }\n",
              "    40% {\n",
              "      border-color: transparent;\n",
              "      border-right-color: var(--fill-color);\n",
              "      border-top-color: var(--fill-color);\n",
              "    }\n",
              "    60% {\n",
              "      border-color: transparent;\n",
              "      border-right-color: var(--fill-color);\n",
              "    }\n",
              "    80% {\n",
              "      border-color: transparent;\n",
              "      border-right-color: var(--fill-color);\n",
              "      border-bottom-color: var(--fill-color);\n",
              "    }\n",
              "    90% {\n",
              "      border-color: transparent;\n",
              "      border-bottom-color: var(--fill-color);\n",
              "    }\n",
              "  }\n",
              "</style>\n",
              "\n",
              "      <script>\n",
              "        async function quickchart(key) {\n",
              "          const quickchartButtonEl =\n",
              "            document.querySelector('#' + key + ' button');\n",
              "          quickchartButtonEl.disabled = true;  // To prevent multiple clicks.\n",
              "          quickchartButtonEl.classList.add('colab-df-spinner');\n",
              "          try {\n",
              "            const charts = await google.colab.kernel.invokeFunction(\n",
              "                'suggestCharts', [key], {});\n",
              "          } catch (error) {\n",
              "            console.error('Error during call to suggestCharts:', error);\n",
              "          }\n",
              "          quickchartButtonEl.classList.remove('colab-df-spinner');\n",
              "          quickchartButtonEl.classList.add('colab-df-quickchart-complete');\n",
              "        }\n",
              "        (() => {\n",
              "          let quickchartButtonEl =\n",
              "            document.querySelector('#df-3cc61630-4ffd-4358-954e-143d7c98a12f button');\n",
              "          quickchartButtonEl.style.display =\n",
              "            google.colab.kernel.accessAllowed ? 'block' : 'none';\n",
              "        })();\n",
              "      </script>\n",
              "    </div>\n",
              "\n",
              "    </div>\n",
              "  </div>\n"
            ],
            "application/vnd.google.colaboratory.intrinsic+json": {
              "type": "dataframe",
              "summary": "{\n  \"name\": \"print_recommendations(4200)\",\n  \"rows\": 5,\n  \"fields\": [\n    {\n      \"column\": \"id\",\n      \"properties\": {\n        \"dtype\": \"string\",\n        \"num_unique_values\": 5,\n        \"samples\": [\n          \"3629 \",\n          \"3379 \",\n          \"3761 \"\n        ],\n        \"semantic_type\": \"\",\n        \"description\": \"\"\n      }\n    },\n    {\n      \"column\": \"title\",\n      \"properties\": {\n        \"dtype\": \"string\",\n        \"num_unique_values\": 5,\n        \"samples\": [\n          \"Don't Change\",\n          \"Things Can Only Get Better\",\n          \"Too Shy\"\n        ],\n        \"semantic_type\": \"\",\n        \"description\": \"\"\n      }\n    },\n    {\n      \"column\": \"artist\",\n      \"properties\": {\n        \"dtype\": \"string\",\n        \"num_unique_values\": 5,\n        \"samples\": [\n          \"INXS\",\n          \"Howard Jones\",\n          \"Kajagoogoo\"\n        ],\n        \"semantic_type\": \"\",\n        \"description\": \"\"\n      }\n    }\n  ]\n}"
            }
          },
          "metadata": {},
          "execution_count": 27
        }
      ]
    },
    {
      "cell_type": "code",
      "source": [
        "print_recommendations(85)"
      ],
      "metadata": {
        "colab": {
          "base_uri": "https://localhost:8080/",
          "height": 237
        },
        "id": "aU7g3vX0BQk_",
        "outputId": "776e8d91-d04a-4bb9-df09-9d676dbe03b4"
      },
      "execution_count": 28,
      "outputs": [
        {
          "output_type": "execute_result",
          "data": {
            "text/plain": [
              "                                          title           artist\n",
              "id                                                              \n",
              "20064                                       S&M          Rihanna\n",
              "82                     Only Girl (In The World)          Rihanna\n",
              "14      DJ Got Us Fallin' In Love (w\\/ Pitbull)            Usher\n",
              "19471                  The Time (The Dirty Bit)  Black Eyed Peas\n",
              "13973                          No Woman, No Cry       The Fugees"
            ],
            "text/html": [
              "\n",
              "  <div id=\"df-adb80bbc-a079-4a2a-8688-2ee3bb7b148b\" class=\"colab-df-container\">\n",
              "    <div>\n",
              "<style scoped>\n",
              "    .dataframe tbody tr th:only-of-type {\n",
              "        vertical-align: middle;\n",
              "    }\n",
              "\n",
              "    .dataframe tbody tr th {\n",
              "        vertical-align: top;\n",
              "    }\n",
              "\n",
              "    .dataframe thead th {\n",
              "        text-align: right;\n",
              "    }\n",
              "</style>\n",
              "<table border=\"1\" class=\"dataframe\">\n",
              "  <thead>\n",
              "    <tr style=\"text-align: right;\">\n",
              "      <th></th>\n",
              "      <th>title</th>\n",
              "      <th>artist</th>\n",
              "    </tr>\n",
              "    <tr>\n",
              "      <th>id</th>\n",
              "      <th></th>\n",
              "      <th></th>\n",
              "    </tr>\n",
              "  </thead>\n",
              "  <tbody>\n",
              "    <tr>\n",
              "      <th>20064</th>\n",
              "      <td>S&amp;M</td>\n",
              "      <td>Rihanna</td>\n",
              "    </tr>\n",
              "    <tr>\n",
              "      <th>82</th>\n",
              "      <td>Only Girl (In The World)</td>\n",
              "      <td>Rihanna</td>\n",
              "    </tr>\n",
              "    <tr>\n",
              "      <th>14</th>\n",
              "      <td>DJ Got Us Fallin' In Love (w\\/ Pitbull)</td>\n",
              "      <td>Usher</td>\n",
              "    </tr>\n",
              "    <tr>\n",
              "      <th>19471</th>\n",
              "      <td>The Time (The Dirty Bit)</td>\n",
              "      <td>Black Eyed Peas</td>\n",
              "    </tr>\n",
              "    <tr>\n",
              "      <th>13973</th>\n",
              "      <td>No Woman, No Cry</td>\n",
              "      <td>The Fugees</td>\n",
              "    </tr>\n",
              "  </tbody>\n",
              "</table>\n",
              "</div>\n",
              "    <div class=\"colab-df-buttons\">\n",
              "\n",
              "  <div class=\"colab-df-container\">\n",
              "    <button class=\"colab-df-convert\" onclick=\"convertToInteractive('df-adb80bbc-a079-4a2a-8688-2ee3bb7b148b')\"\n",
              "            title=\"Convert this dataframe to an interactive table.\"\n",
              "            style=\"display:none;\">\n",
              "\n",
              "  <svg xmlns=\"http://www.w3.org/2000/svg\" height=\"24px\" viewBox=\"0 -960 960 960\">\n",
              "    <path d=\"M120-120v-720h720v720H120Zm60-500h600v-160H180v160Zm220 220h160v-160H400v160Zm0 220h160v-160H400v160ZM180-400h160v-160H180v160Zm440 0h160v-160H620v160ZM180-180h160v-160H180v160Zm440 0h160v-160H620v160Z\"/>\n",
              "  </svg>\n",
              "    </button>\n",
              "\n",
              "  <style>\n",
              "    .colab-df-container {\n",
              "      display:flex;\n",
              "      gap: 12px;\n",
              "    }\n",
              "\n",
              "    .colab-df-convert {\n",
              "      background-color: #E8F0FE;\n",
              "      border: none;\n",
              "      border-radius: 50%;\n",
              "      cursor: pointer;\n",
              "      display: none;\n",
              "      fill: #1967D2;\n",
              "      height: 32px;\n",
              "      padding: 0 0 0 0;\n",
              "      width: 32px;\n",
              "    }\n",
              "\n",
              "    .colab-df-convert:hover {\n",
              "      background-color: #E2EBFA;\n",
              "      box-shadow: 0px 1px 2px rgba(60, 64, 67, 0.3), 0px 1px 3px 1px rgba(60, 64, 67, 0.15);\n",
              "      fill: #174EA6;\n",
              "    }\n",
              "\n",
              "    .colab-df-buttons div {\n",
              "      margin-bottom: 4px;\n",
              "    }\n",
              "\n",
              "    [theme=dark] .colab-df-convert {\n",
              "      background-color: #3B4455;\n",
              "      fill: #D2E3FC;\n",
              "    }\n",
              "\n",
              "    [theme=dark] .colab-df-convert:hover {\n",
              "      background-color: #434B5C;\n",
              "      box-shadow: 0px 1px 3px 1px rgba(0, 0, 0, 0.15);\n",
              "      filter: drop-shadow(0px 1px 2px rgba(0, 0, 0, 0.3));\n",
              "      fill: #FFFFFF;\n",
              "    }\n",
              "  </style>\n",
              "\n",
              "    <script>\n",
              "      const buttonEl =\n",
              "        document.querySelector('#df-adb80bbc-a079-4a2a-8688-2ee3bb7b148b button.colab-df-convert');\n",
              "      buttonEl.style.display =\n",
              "        google.colab.kernel.accessAllowed ? 'block' : 'none';\n",
              "\n",
              "      async function convertToInteractive(key) {\n",
              "        const element = document.querySelector('#df-adb80bbc-a079-4a2a-8688-2ee3bb7b148b');\n",
              "        const dataTable =\n",
              "          await google.colab.kernel.invokeFunction('convertToInteractive',\n",
              "                                                    [key], {});\n",
              "        if (!dataTable) return;\n",
              "\n",
              "        const docLinkHtml = 'Like what you see? Visit the ' +\n",
              "          '<a target=\"_blank\" href=https://colab.research.google.com/notebooks/data_table.ipynb>data table notebook</a>'\n",
              "          + ' to learn more about interactive tables.';\n",
              "        element.innerHTML = '';\n",
              "        dataTable['output_type'] = 'display_data';\n",
              "        await google.colab.output.renderOutput(dataTable, element);\n",
              "        const docLink = document.createElement('div');\n",
              "        docLink.innerHTML = docLinkHtml;\n",
              "        element.appendChild(docLink);\n",
              "      }\n",
              "    </script>\n",
              "  </div>\n",
              "\n",
              "\n",
              "    <div id=\"df-8f5fa0a1-6a48-4b81-9adb-c6f3b181331f\">\n",
              "      <button class=\"colab-df-quickchart\" onclick=\"quickchart('df-8f5fa0a1-6a48-4b81-9adb-c6f3b181331f')\"\n",
              "                title=\"Suggest charts\"\n",
              "                style=\"display:none;\">\n",
              "\n",
              "<svg xmlns=\"http://www.w3.org/2000/svg\" height=\"24px\"viewBox=\"0 0 24 24\"\n",
              "     width=\"24px\">\n",
              "    <g>\n",
              "        <path d=\"M19 3H5c-1.1 0-2 .9-2 2v14c0 1.1.9 2 2 2h14c1.1 0 2-.9 2-2V5c0-1.1-.9-2-2-2zM9 17H7v-7h2v7zm4 0h-2V7h2v10zm4 0h-2v-4h2v4z\"/>\n",
              "    </g>\n",
              "</svg>\n",
              "      </button>\n",
              "\n",
              "<style>\n",
              "  .colab-df-quickchart {\n",
              "      --bg-color: #E8F0FE;\n",
              "      --fill-color: #1967D2;\n",
              "      --hover-bg-color: #E2EBFA;\n",
              "      --hover-fill-color: #174EA6;\n",
              "      --disabled-fill-color: #AAA;\n",
              "      --disabled-bg-color: #DDD;\n",
              "  }\n",
              "\n",
              "  [theme=dark] .colab-df-quickchart {\n",
              "      --bg-color: #3B4455;\n",
              "      --fill-color: #D2E3FC;\n",
              "      --hover-bg-color: #434B5C;\n",
              "      --hover-fill-color: #FFFFFF;\n",
              "      --disabled-bg-color: #3B4455;\n",
              "      --disabled-fill-color: #666;\n",
              "  }\n",
              "\n",
              "  .colab-df-quickchart {\n",
              "    background-color: var(--bg-color);\n",
              "    border: none;\n",
              "    border-radius: 50%;\n",
              "    cursor: pointer;\n",
              "    display: none;\n",
              "    fill: var(--fill-color);\n",
              "    height: 32px;\n",
              "    padding: 0;\n",
              "    width: 32px;\n",
              "  }\n",
              "\n",
              "  .colab-df-quickchart:hover {\n",
              "    background-color: var(--hover-bg-color);\n",
              "    box-shadow: 0 1px 2px rgba(60, 64, 67, 0.3), 0 1px 3px 1px rgba(60, 64, 67, 0.15);\n",
              "    fill: var(--button-hover-fill-color);\n",
              "  }\n",
              "\n",
              "  .colab-df-quickchart-complete:disabled,\n",
              "  .colab-df-quickchart-complete:disabled:hover {\n",
              "    background-color: var(--disabled-bg-color);\n",
              "    fill: var(--disabled-fill-color);\n",
              "    box-shadow: none;\n",
              "  }\n",
              "\n",
              "  .colab-df-spinner {\n",
              "    border: 2px solid var(--fill-color);\n",
              "    border-color: transparent;\n",
              "    border-bottom-color: var(--fill-color);\n",
              "    animation:\n",
              "      spin 1s steps(1) infinite;\n",
              "  }\n",
              "\n",
              "  @keyframes spin {\n",
              "    0% {\n",
              "      border-color: transparent;\n",
              "      border-bottom-color: var(--fill-color);\n",
              "      border-left-color: var(--fill-color);\n",
              "    }\n",
              "    20% {\n",
              "      border-color: transparent;\n",
              "      border-left-color: var(--fill-color);\n",
              "      border-top-color: var(--fill-color);\n",
              "    }\n",
              "    30% {\n",
              "      border-color: transparent;\n",
              "      border-left-color: var(--fill-color);\n",
              "      border-top-color: var(--fill-color);\n",
              "      border-right-color: var(--fill-color);\n",
              "    }\n",
              "    40% {\n",
              "      border-color: transparent;\n",
              "      border-right-color: var(--fill-color);\n",
              "      border-top-color: var(--fill-color);\n",
              "    }\n",
              "    60% {\n",
              "      border-color: transparent;\n",
              "      border-right-color: var(--fill-color);\n",
              "    }\n",
              "    80% {\n",
              "      border-color: transparent;\n",
              "      border-right-color: var(--fill-color);\n",
              "      border-bottom-color: var(--fill-color);\n",
              "    }\n",
              "    90% {\n",
              "      border-color: transparent;\n",
              "      border-bottom-color: var(--fill-color);\n",
              "    }\n",
              "  }\n",
              "</style>\n",
              "\n",
              "      <script>\n",
              "        async function quickchart(key) {\n",
              "          const quickchartButtonEl =\n",
              "            document.querySelector('#' + key + ' button');\n",
              "          quickchartButtonEl.disabled = true;  // To prevent multiple clicks.\n",
              "          quickchartButtonEl.classList.add('colab-df-spinner');\n",
              "          try {\n",
              "            const charts = await google.colab.kernel.invokeFunction(\n",
              "                'suggestCharts', [key], {});\n",
              "          } catch (error) {\n",
              "            console.error('Error during call to suggestCharts:', error);\n",
              "          }\n",
              "          quickchartButtonEl.classList.remove('colab-df-spinner');\n",
              "          quickchartButtonEl.classList.add('colab-df-quickchart-complete');\n",
              "        }\n",
              "        (() => {\n",
              "          let quickchartButtonEl =\n",
              "            document.querySelector('#df-8f5fa0a1-6a48-4b81-9adb-c6f3b181331f button');\n",
              "          quickchartButtonEl.style.display =\n",
              "            google.colab.kernel.accessAllowed ? 'block' : 'none';\n",
              "        })();\n",
              "      </script>\n",
              "    </div>\n",
              "\n",
              "    </div>\n",
              "  </div>\n"
            ],
            "application/vnd.google.colaboratory.intrinsic+json": {
              "type": "dataframe",
              "summary": "{\n  \"name\": \"print_recommendations(85)\",\n  \"rows\": 5,\n  \"fields\": [\n    {\n      \"column\": \"id\",\n      \"properties\": {\n        \"dtype\": \"string\",\n        \"num_unique_values\": 5,\n        \"samples\": [\n          \"82 \",\n          \"13973 \",\n          \"14 \"\n        ],\n        \"semantic_type\": \"\",\n        \"description\": \"\"\n      }\n    },\n    {\n      \"column\": \"title\",\n      \"properties\": {\n        \"dtype\": \"string\",\n        \"num_unique_values\": 5,\n        \"samples\": [\n          \"Only Girl (In The World)\",\n          \"No Woman, No Cry\",\n          \"DJ Got Us Fallin' In Love (w\\\\/ Pitbull)\"\n        ],\n        \"semantic_type\": \"\",\n        \"description\": \"\"\n      }\n    },\n    {\n      \"column\": \"artist\",\n      \"properties\": {\n        \"dtype\": \"string\",\n        \"num_unique_values\": 4,\n        \"samples\": [\n          \"Usher\",\n          \"The Fugees\",\n          \"Rihanna\"\n        ],\n        \"semantic_type\": \"\",\n        \"description\": \"\"\n      }\n    }\n  ]\n}"
            }
          },
          "metadata": {},
          "execution_count": 28
        }
      ]
    }
  ]
}